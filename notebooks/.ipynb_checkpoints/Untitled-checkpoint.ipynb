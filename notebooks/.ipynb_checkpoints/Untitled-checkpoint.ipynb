{
 "cells": [
  {
   "cell_type": "code",
   "execution_count": 20,
   "id": "42a2012c",
   "metadata": {},
   "outputs": [],
   "source": [
    "import pandas as pd\n",
    "import numpy as np"
   ]
  },
  {
   "cell_type": "code",
   "execution_count": 6,
   "id": "0d502a65",
   "metadata": {},
   "outputs": [
    {
     "data": {
      "text/plain": [
       "<pandas.io.excel._base.ExcelFile at 0x1248e3730>"
      ]
     },
     "execution_count": 6,
     "metadata": {},
     "output_type": "execute_result"
    }
   ],
   "source": [
    "# data = pd.ExcelFile('../data/datos.xlsx')\n",
    "# df = data.parse('Consumo')"
   ]
  },
  {
   "cell_type": "code",
   "execution_count": 21,
   "id": "9913818d",
   "metadata": {},
   "outputs": [],
   "source": [
    "# df.head()"
   ]
  },
  {
   "cell_type": "code",
   "execution_count": 27,
   "id": "3b59f315",
   "metadata": {},
   "outputs": [
    {
     "name": "stdout",
     "output_type": "stream",
     "text": [
      "DataFrame final procesado correctamente:\n",
      "        País  Cocaína  Cannabis  Metanfetaminas  Opioides Categoría_Cocaína  \\\n",
      "0    Albania     2.50      5.60            0.10      0.00              Alta   \n",
      "1   Alemania     1.03      6.62            1.15      0.36             Media   \n",
      "2    Argelia     0.01      0.52            0.03      0.00          Muy baja   \n",
      "3  Argentina     1.20      5.67            0.00      0.19             Media   \n",
      "4  Australia     0.00     10.80            1.73      3.10          Sin dato   \n",
      "\n",
      "  Categoría_Cannabis Categoría_Metanfetaminas Categoría_Opioides  \n",
      "0              Media                 Muy Baja           Sin dato  \n",
      "1              Media                     Alta               Baja  \n",
      "2           Muy baja                 Muy Baja           Sin dato  \n",
      "3              Media                 Sin dato           Muy baja  \n",
      "4               Alta                     Alta               Alta  \n"
     ]
    }
   ],
   "source": [
    "import pandas as pd\n",
    "\n",
    "# Cargar los datos manteniendo la estructura original\n",
    "data = pd.ExcelFile('../data/datos.xlsx')\n",
    "df = data.parse('Consumo')  # Manteniendo tu lectura original\n",
    "\n",
    "# Limpiar filas completamente vacías\n",
    "df_cleaned = df.dropna(how='all')\n",
    "\n",
    "# Mapeo de posiciones de columnas para cada droga (basado en tu estructura)\n",
    "tablas_config = {\n",
    "    'Cocaína': {\n",
    "        'start_col': 0,\n",
    "        'cols': ['País', 'Cocaína', 'Categoría_Cocaína']\n",
    "    },\n",
    "    'Cannabis': {\n",
    "        'start_col': 4,\n",
    "        'cols': ['País', 'Cannabis', 'Categoría_Cannabis']\n",
    "    },\n",
    "    'Metanfetaminas': {\n",
    "        'start_col': 8,\n",
    "        'cols': ['País', 'Metanfetaminas', 'Categoría_Metanfetaminas']\n",
    "    },\n",
    "    'Opioides': {\n",
    "        'start_col': 12,\n",
    "        'cols': ['País', 'Opioides', 'Categoría_Opioides']\n",
    "    }\n",
    "}\n",
    "\n",
    "def procesar_tabla(df, start_col, nombres_columnas):\n",
    "    \"\"\"Procesa cada tabla individual respetando tu estructura real\"\"\"\n",
    "    try:\n",
    "        # Seleccionar desde la fila 2 (índice 2) para saltar encabezados\n",
    "        tabla = df.iloc[2:, start_col:start_col+3].copy()\n",
    "        tabla.columns = nombres_columnas\n",
    "        \n",
    "        # Limpiar y convertir valores\n",
    "        tabla = tabla.dropna(subset=['País'])\n",
    "        col_valor = nombres_columnas[1]\n",
    "        tabla[col_valor] = pd.to_numeric(tabla[col_valor], errors='coerce')\n",
    "        \n",
    "        return tabla[['País', col_valor]]\n",
    "    \n",
    "    except Exception as e:\n",
    "        print(f\"Error procesando {nombres_columnas[1]}: {str(e)}\")\n",
    "        return pd.DataFrame()\n",
    "\n",
    "# Procesar todas las tablas\n",
    "dataframes = {}\n",
    "for droga, config in tablas_config.items():\n",
    "    temp_df = procesar_tabla(df_cleaned, \n",
    "                           config['start_col'], \n",
    "                           config['cols'])\n",
    "    dataframes[droga] = temp_df\n",
    "\n",
    "# Combinar mediante merge sucesivo\n",
    "df_final = dataframes['Cocaína']\n",
    "for droga in ['Cannabis', 'Metanfetaminas', 'Opioides']:\n",
    "    df_final = df_final.merge(dataframes[droga], \n",
    "                            on='País', \n",
    "                            how='outer')\n",
    "\n",
    "# Aplicar categorizaciones (versión mejorada)\n",
    "def aplicar_categorias(df):\n",
    "    categorizadores = {\n",
    "        'Cocaína': [\n",
    "            (1.2, 'Alta'),\n",
    "            (0.6, 'Media'),\n",
    "            (0.29, 'Baja'),\n",
    "            (-np.inf, 'Muy baja')\n",
    "        ],\n",
    "        'Cannabis': [\n",
    "            (6.8, 'Alta'),\n",
    "            (3.9, 'Media'),\n",
    "            (2.3, 'Baja'),\n",
    "            (-np.inf, 'Muy baja')\n",
    "        ],\n",
    "        'Metanfetaminas': [\n",
    "            (0.9, 'Alta'),\n",
    "            (0.48, 'Media'),\n",
    "            (0.17, 'Baja'),\n",
    "            (-np.inf, 'Muy Baja')\n",
    "        ],\n",
    "        'Opioides': [\n",
    "            (1, 'Alta'),\n",
    "            (0.5, 'Media'),\n",
    "            (0.26, 'Baja'),\n",
    "            (-np.inf, 'Muy baja')\n",
    "        ]\n",
    "    }\n",
    "    \n",
    "    for droga, limites in categorizadores.items():\n",
    "        col_categoria = f'Categoría_{droga}'\n",
    "        df[col_categoria] = df[droga].apply(\n",
    "            lambda x: next((cat for lim, cat in limites if x > lim), 'Sin dato')\n",
    "        )\n",
    "    \n",
    "    return df\n",
    "\n",
    "df_final = aplicar_categorias(df_final)\n",
    "\n",
    "# Ordenamiento final y limpieza\n",
    "column_order = ['País'] + \\\n",
    "    [f'{d}|Categoría_{d}' for d in tablas_config.keys()]\n",
    "    \n",
    "df_final = df_final.fillna(0).sort_values('País').reset_index(drop=True)\n",
    "\n",
    "print(\"DataFrame final procesado correctamente:\")\n",
    "print(df_final.head())"
   ]
  },
  {
   "cell_type": "code",
   "execution_count": 28,
   "id": "9443005d",
   "metadata": {},
   "outputs": [
    {
     "data": {
      "text/html": [
       "<div>\n",
       "<style scoped>\n",
       "    .dataframe tbody tr th:only-of-type {\n",
       "        vertical-align: middle;\n",
       "    }\n",
       "\n",
       "    .dataframe tbody tr th {\n",
       "        vertical-align: top;\n",
       "    }\n",
       "\n",
       "    .dataframe thead th {\n",
       "        text-align: right;\n",
       "    }\n",
       "</style>\n",
       "<table border=\"1\" class=\"dataframe\">\n",
       "  <thead>\n",
       "    <tr style=\"text-align: right;\">\n",
       "      <th></th>\n",
       "      <th>País</th>\n",
       "      <th>Cocaína</th>\n",
       "      <th>Cannabis</th>\n",
       "      <th>Metanfetaminas</th>\n",
       "      <th>Opioides</th>\n",
       "      <th>Categoría_Cocaína</th>\n",
       "      <th>Categoría_Cannabis</th>\n",
       "      <th>Categoría_Metanfetaminas</th>\n",
       "      <th>Categoría_Opioides</th>\n",
       "    </tr>\n",
       "  </thead>\n",
       "  <tbody>\n",
       "    <tr>\n",
       "      <th>0</th>\n",
       "      <td>Albania</td>\n",
       "      <td>2.50</td>\n",
       "      <td>5.60</td>\n",
       "      <td>0.10</td>\n",
       "      <td>0.00</td>\n",
       "      <td>Alta</td>\n",
       "      <td>Media</td>\n",
       "      <td>Muy Baja</td>\n",
       "      <td>Sin dato</td>\n",
       "    </tr>\n",
       "    <tr>\n",
       "      <th>1</th>\n",
       "      <td>Alemania</td>\n",
       "      <td>1.03</td>\n",
       "      <td>6.62</td>\n",
       "      <td>1.15</td>\n",
       "      <td>0.36</td>\n",
       "      <td>Media</td>\n",
       "      <td>Media</td>\n",
       "      <td>Alta</td>\n",
       "      <td>Baja</td>\n",
       "    </tr>\n",
       "    <tr>\n",
       "      <th>2</th>\n",
       "      <td>Argelia</td>\n",
       "      <td>0.01</td>\n",
       "      <td>0.52</td>\n",
       "      <td>0.03</td>\n",
       "      <td>0.00</td>\n",
       "      <td>Muy baja</td>\n",
       "      <td>Muy baja</td>\n",
       "      <td>Muy Baja</td>\n",
       "      <td>Sin dato</td>\n",
       "    </tr>\n",
       "    <tr>\n",
       "      <th>3</th>\n",
       "      <td>Argentina</td>\n",
       "      <td>1.20</td>\n",
       "      <td>5.67</td>\n",
       "      <td>0.00</td>\n",
       "      <td>0.19</td>\n",
       "      <td>Media</td>\n",
       "      <td>Media</td>\n",
       "      <td>Sin dato</td>\n",
       "      <td>Muy baja</td>\n",
       "    </tr>\n",
       "    <tr>\n",
       "      <th>4</th>\n",
       "      <td>Australia</td>\n",
       "      <td>0.00</td>\n",
       "      <td>10.80</td>\n",
       "      <td>1.73</td>\n",
       "      <td>3.10</td>\n",
       "      <td>Sin dato</td>\n",
       "      <td>Alta</td>\n",
       "      <td>Alta</td>\n",
       "      <td>Alta</td>\n",
       "    </tr>\n",
       "  </tbody>\n",
       "</table>\n",
       "</div>"
      ],
      "text/plain": [
       "        País  Cocaína  Cannabis  Metanfetaminas  Opioides Categoría_Cocaína  \\\n",
       "0    Albania     2.50      5.60            0.10      0.00              Alta   \n",
       "1   Alemania     1.03      6.62            1.15      0.36             Media   \n",
       "2    Argelia     0.01      0.52            0.03      0.00          Muy baja   \n",
       "3  Argentina     1.20      5.67            0.00      0.19             Media   \n",
       "4  Australia     0.00     10.80            1.73      3.10          Sin dato   \n",
       "\n",
       "  Categoría_Cannabis Categoría_Metanfetaminas Categoría_Opioides  \n",
       "0              Media                 Muy Baja           Sin dato  \n",
       "1              Media                     Alta               Baja  \n",
       "2           Muy baja                 Muy Baja           Sin dato  \n",
       "3              Media                 Sin dato           Muy baja  \n",
       "4               Alta                     Alta               Alta  "
      ]
     },
     "execution_count": 28,
     "metadata": {},
     "output_type": "execute_result"
    }
   ],
   "source": [
    "df_final.head()"
   ]
  },
  {
   "cell_type": "code",
   "execution_count": 29,
   "id": "2faa287b",
   "metadata": {},
   "outputs": [
    {
     "data": {
      "text/plain": [
       "(83, 9)"
      ]
     },
     "execution_count": 29,
     "metadata": {},
     "output_type": "execute_result"
    }
   ],
   "source": [
    "df_final.shape"
   ]
  },
  {
   "cell_type": "code",
   "execution_count": 26,
   "id": "b8419d3d",
   "metadata": {},
   "outputs": [
    {
     "name": "stdout",
     "output_type": "stream",
     "text": [
      "Columnas finales: ['País', 'Cocaína', 'Cannabis', 'Metanfetaminas', 'Opioides', 'Categoría_Cocaína', 'Categoría_Cannabis', 'Categoría_Metanfetaminas', 'Categoría_Opioides']\n",
      "Países únicos: 83\n",
      "Valores nulos: País                        0\n",
      "Cocaína                     0\n",
      "Cannabis                    0\n",
      "Metanfetaminas              0\n",
      "Opioides                    0\n",
      "Categoría_Cocaína           0\n",
      "Categoría_Cannabis          0\n",
      "Categoría_Metanfetaminas    0\n",
      "Categoría_Opioides          0\n",
      "dtype: int64\n"
     ]
    }
   ],
   "source": [
    "print(\"Columnas finales:\", df_final.columns.tolist())\n",
    "print(\"Países únicos:\", df_final['País'].nunique())\n",
    "print(\"Valores nulos:\", df_final.isna().sum())"
   ]
  },
  {
   "cell_type": "code",
   "execution_count": null,
   "id": "026730c3",
   "metadata": {},
   "outputs": [],
   "source": []
  }
 ],
 "metadata": {
  "kernelspec": {
   "display_name": "Python 3 (ipykernel)",
   "language": "python",
   "name": "python3"
  },
  "language_info": {
   "codemirror_mode": {
    "name": "ipython",
    "version": 3
   },
   "file_extension": ".py",
   "mimetype": "text/x-python",
   "name": "python",
   "nbconvert_exporter": "python",
   "pygments_lexer": "ipython3",
   "version": "3.10.6"
  },
  "toc": {
   "base_numbering": 1,
   "nav_menu": {},
   "number_sections": true,
   "sideBar": true,
   "skip_h1_title": false,
   "title_cell": "Table of Contents",
   "title_sidebar": "Contents",
   "toc_cell": false,
   "toc_position": {},
   "toc_section_display": true,
   "toc_window_display": false
  }
 },
 "nbformat": 4,
 "nbformat_minor": 5
}
