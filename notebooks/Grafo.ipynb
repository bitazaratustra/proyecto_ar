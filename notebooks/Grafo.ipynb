{
 "cells": [
  {
   "cell_type": "markdown",
   "id": "cb3780fb-371a-44b9-aa6e-34205ab6300b",
   "metadata": {},
   "source": [
    "# Librerias"
   ]
  },
  {
   "cell_type": "code",
   "execution_count": 2,
   "id": "f1bdee18-f567-4660-8591-bcec62df7d9c",
   "metadata": {},
   "outputs": [],
   "source": [
    "import numpy as np\n",
    "import pandas as pd\n",
    "import matplotlib.pyplot as plt\n",
    "import seaborn as sns\n",
    "import networkx as nx\n",
    "from math import pi\n",
    "import geopandas as gpd\n",
    "from sklearn.preprocessing import StandardScaler\n",
    "from sklearn.cluster import KMeans\n",
    "from mpl_toolkits.axes_grid1 import make_axes_locatable\n",
    "import plotly.graph_objects as go\n",
    "import matplotlib as mpl\n",
    "from matplotlib.colors import Normalize\n",
    "import matplotlib.colors as mcolors"
   ]
  },
  {
   "cell_type": "code",
   "execution_count": 3,
   "id": "612d7674-c6d6-448a-8303-9651d33d3ef0",
   "metadata": {},
   "outputs": [],
   "source": [
    "url = \"https://naciscdn.org/naturalearth/110m/cultural/ne_110m_admin_0_countries.zip\"\n",
    "world = gpd.read_file(url)"
   ]
  },
  {
   "cell_type": "code",
   "execution_count": 6,
   "id": "fd6b4fdc-83aa-4571-95cf-b54eb5aad64e",
   "metadata": {},
   "outputs": [
    {
     "data": {
      "application/vnd.plotly.v1+json": {
       "config": {
        "plotlyServerURL": "https://plot.ly"
       },
       "data": [
        {
         "hoverinfo": "text",
         "hovertext": "<b>Afganistán</b><br><br>Conexiones:<br>",
         "lat": [
          34.5553
         ],
         "lon": [
          69.2075
         ],
         "marker": {
          "color": "#2c3e50",
          "line": {
           "color": "white",
           "width": 0.5
          },
          "opacity": 0.7,
          "size": 10
         },
         "mode": "markers+text",
         "showlegend": false,
         "text": "Afganistán",
         "textfont": {
          "color": "#2c3e50",
          "family": "Arial",
          "size": 10
         },
         "textposition": "top center",
         "type": "scattergeo"
        },
        {
         "hoverinfo": "text",
         "hovertext": "<b>Alemania</b><br><br>Conexiones:<br>→ Austria (20.04%)<br>→ Moldavia (43.66%)<br>← Argentina (800.81%)<br>← Brasil (1774.37%)<br>← Ecuador (2272.82%)<br>← Paraguay (555.59%)<br>← Turquía (180.0%)<br>← Uruguay (519.31%)",
         "lat": [
          52.52
         ],
         "lon": [
          13.4049
         ],
         "marker": {
          "color": "#2c3e50",
          "line": {
           "color": "white",
           "width": 0.5
          },
          "opacity": 0.7,
          "size": 10
         },
         "mode": "markers+text",
         "showlegend": false,
         "text": "Alemania",
         "textfont": {
          "color": "#2c3e50",
          "family": "Arial",
          "size": 10
         },
         "textposition": "top center",
         "type": "scattergeo"
        },
        {
         "hoverinfo": "text",
         "hovertext": "<b>Angola</b><br><br>Conexiones:<br>← Brasil (890.0%)",
         "lat": [
          -8.8159
         ],
         "lon": [
          13.2316
         ],
         "marker": {
          "color": "#2c3e50",
          "line": {
           "color": "white",
           "width": 0.5
          },
          "opacity": 0.7,
          "size": 10
         },
         "mode": "markers+text",
         "showlegend": false,
         "text": "Angola",
         "textfont": {
          "color": "#2c3e50",
          "family": "Arial",
          "size": 10
         },
         "textposition": "top center",
         "type": "scattergeo"
        },
        {
         "hoverinfo": "text",
         "hovertext": "<b>Argentina</b><br><br>Conexiones:<br>→ Alemania (800.81%)<br>→ España (677.35%)",
         "lat": [
          -34.6037
         ],
         "lon": [
          -58.3816
         ],
         "marker": {
          "color": "#2c3e50",
          "line": {
           "color": "white",
           "width": 0.5
          },
          "opacity": 0.7,
          "size": 10
         },
         "mode": "markers+text",
         "showlegend": false,
         "text": "Argentina",
         "textfont": {
          "color": "#2c3e50",
          "family": "Arial",
          "size": 10
         },
         "textposition": "top center",
         "type": "scattergeo"
        },
        {
         "hoverinfo": "text",
         "hovertext": "<b>Australia</b><br><br>Conexiones:<br>← Mexico (669.9%)",
         "lat": [
          -33.8688
         ],
         "lon": [
          151.2093
         ],
         "marker": {
          "color": "#2c3e50",
          "line": {
           "color": "white",
           "width": 0.5
          },
          "opacity": 0.7,
          "size": 10
         },
         "mode": "markers+text",
         "showlegend": false,
         "text": "Australia",
         "textfont": {
          "color": "#2c3e50",
          "family": "Arial",
          "size": 10
         },
         "textposition": "top center",
         "type": "scattergeo"
        },
        {
         "hoverinfo": "text",
         "hovertext": "<b>Austria</b><br><br>Conexiones:<br>← Alemania (20.04%)",
         "lat": [
          48.2082
         ],
         "lon": [
          16.3738
         ],
         "marker": {
          "color": "#2c3e50",
          "line": {
           "color": "white",
           "width": 0.5
          },
          "opacity": 0.7,
          "size": 10
         },
         "mode": "markers+text",
         "showlegend": false,
         "text": "Austria",
         "textfont": {
          "color": "#2c3e50",
          "family": "Arial",
          "size": 10
         },
         "textposition": "top center",
         "type": "scattergeo"
        },
        {
         "hoverinfo": "text",
         "hovertext": "<b>Bélgica</b><br><br>Conexiones:<br>← Brasil (1339.1%)<br>← Ecuador (1721.8%)",
         "lat": [
          50.8503
         ],
         "lon": [
          4.3517
         ],
         "marker": {
          "color": "#2c3e50",
          "line": {
           "color": "white",
           "width": 0.5
          },
          "opacity": 0.7,
          "size": 10
         },
         "mode": "markers+text",
         "showlegend": false,
         "text": "Bélgica",
         "textfont": {
          "color": "#2c3e50",
          "family": "Arial",
          "size": 10
         },
         "textposition": "top center",
         "type": "scattergeo"
        },
        {
         "hoverinfo": "text",
         "hovertext": "<b>Bolivia</b><br><br>Conexiones:<br>",
         "lat": [
          -16.4897
         ],
         "lon": [
          -68.1193
         ],
         "marker": {
          "color": "#2c3e50",
          "line": {
           "color": "white",
           "width": 0.5
          },
          "opacity": 0.7,
          "size": 10
         },
         "mode": "markers+text",
         "showlegend": false,
         "text": "Bolivia",
         "textfont": {
          "color": "#2c3e50",
          "family": "Arial",
          "size": 10
         },
         "textposition": "top center",
         "type": "scattergeo"
        },
        {
         "hoverinfo": "text",
         "hovertext": "<b>Brasil</b><br><br>Conexiones:<br>→ Alemania (1774.37%)<br>→ España (1517.49%)<br>→ Países Bajos (1485.13%)<br>→ Bélgica (1339.1%)<br>→ Portugal (1141.82%)<br>→ Angola (890.0%)",
         "lat": [
          -15.7801
         ],
         "lon": [
          -47.9297
         ],
         "marker": {
          "color": "#2c3e50",
          "line": {
           "color": "white",
           "width": 0.5
          },
          "opacity": 0.7,
          "size": 10
         },
         "mode": "markers+text",
         "showlegend": false,
         "text": "Brasil",
         "textfont": {
          "color": "#2c3e50",
          "family": "Arial",
          "size": 10
         },
         "textposition": "top center",
         "type": "scattergeo"
        },
        {
         "hoverinfo": "text",
         "hovertext": "<b>Cabo Verde</b><br><br>Conexiones:<br>→ Portugal (750.0%)",
         "lat": [
          15.1201
         ],
         "lon": [
          -23.5133
         ],
         "marker": {
          "color": "#2c3e50",
          "line": {
           "color": "white",
           "width": 0.5
          },
          "opacity": 0.7,
          "size": 10
         },
         "mode": "markers+text",
         "showlegend": false,
         "text": "Cabo Verde",
         "textfont": {
          "color": "#2c3e50",
          "family": "Arial",
          "size": 10
         },
         "textposition": "top center",
         "type": "scattergeo"
        },
        {
         "hoverinfo": "text",
         "hovertext": "<b>Chile</b><br><br>Conexiones:<br>",
         "lat": [
          -33.4489
         ],
         "lon": [
          -70.6693
         ],
         "marker": {
          "color": "#2c3e50",
          "line": {
           "color": "white",
           "width": 0.5
          },
          "opacity": 0.7,
          "size": 10
         },
         "mode": "markers+text",
         "showlegend": false,
         "text": "Chile",
         "textfont": {
          "color": "#2c3e50",
          "family": "Arial",
          "size": 10
         },
         "textposition": "top center",
         "type": "scattergeo"
        },
        {
         "hoverinfo": "text",
         "hovertext": "<b>Colombia</b><br><br>Conexiones:<br>→ Costa Rica (500.81%)<br>→ Mexico (739.6%)<br>→ Nigeria (2500.0%)",
         "lat": [
          4.5709
         ],
         "lon": [
          -74.2973
         ],
         "marker": {
          "color": "#2c3e50",
          "line": {
           "color": "white",
           "width": 0.5
          },
          "opacity": 0.7,
          "size": 10
         },
         "mode": "markers+text",
         "showlegend": false,
         "text": "Colombia",
         "textfont": {
          "color": "#2c3e50",
          "family": "Arial",
          "size": 10
         },
         "textposition": "top center",
         "type": "scattergeo"
        },
        {
         "hoverinfo": "text",
         "hovertext": "<b>Costa Rica</b><br><br>Conexiones:<br>← Colombia (500.81%)",
         "lat": [
          9.7489
         ],
         "lon": [
          -84.0907
         ],
         "marker": {
          "color": "#2c3e50",
          "line": {
           "color": "white",
           "width": 0.5
          },
          "opacity": 0.7,
          "size": 10
         },
         "mode": "markers+text",
         "showlegend": false,
         "text": "Costa Rica",
         "textfont": {
          "color": "#2c3e50",
          "family": "Arial",
          "size": 10
         },
         "textposition": "top center",
         "type": "scattergeo"
        },
        {
         "hoverinfo": "text",
         "hovertext": "<b>Dinamarca</b><br><br>Conexiones:<br>",
         "lat": [
          55.6761
         ],
         "lon": [
          12.5683
         ],
         "marker": {
          "color": "#2c3e50",
          "line": {
           "color": "white",
           "width": 0.5
          },
          "opacity": 0.7,
          "size": 10
         },
         "mode": "markers+text",
         "showlegend": false,
         "text": "Dinamarca",
         "textfont": {
          "color": "#2c3e50",
          "family": "Arial",
          "size": 10
         },
         "textposition": "top center",
         "type": "scattergeo"
        },
        {
         "hoverinfo": "text",
         "hovertext": "<b>Ecuador</b><br><br>Conexiones:<br>→ Alemania (2272.82%)<br>→ España (1947.63%)<br>→ Países Bajos (1906.66%)<br>→ Bélgica (1721.8%)<br>→ Portugal (1472.06%)",
         "lat": [
          -0.1807
         ],
         "lon": [
          -78.4678
         ],
         "marker": {
          "color": "#2c3e50",
          "line": {
           "color": "white",
           "width": 0.5
          },
          "opacity": 0.7,
          "size": 10
         },
         "mode": "markers+text",
         "showlegend": false,
         "text": "Ecuador",
         "textfont": {
          "color": "#2c3e50",
          "family": "Arial",
          "size": 10
         },
         "textposition": "top center",
         "type": "scattergeo"
        },
        {
         "hoverinfo": "text",
         "hovertext": "<b>España</b><br><br>Conexiones:<br>← Argentina (677.35%)<br>← Brasil (1517.49%)<br>← Ecuador (1947.63%)<br>→ Finlandia (121.47%)<br>→ Moldavia (66.47%)<br>← Nigeria (600.0%)",
         "lat": [
          40.4168
         ],
         "lon": [
          -3.7038
         ],
         "marker": {
          "color": "#2c3e50",
          "line": {
           "color": "white",
           "width": 0.5
          },
          "opacity": 0.7,
          "size": 10
         },
         "mode": "markers+text",
         "showlegend": false,
         "text": "España",
         "textfont": {
          "color": "#2c3e50",
          "family": "Arial",
          "size": 10
         },
         "textposition": "top center",
         "type": "scattergeo"
        },
        {
         "hoverinfo": "text",
         "hovertext": "<b>Estados Unidos</b><br><br>Conexiones:<br>← Mexico (198.97%)",
         "lat": [
          37.0902
         ],
         "lon": [
          -95.7129
         ],
         "marker": {
          "color": "#2c3e50",
          "line": {
           "color": "white",
           "width": 0.5
          },
          "opacity": 0.7,
          "size": 10
         },
         "mode": "markers+text",
         "showlegend": false,
         "text": "Estados Unidos",
         "textfont": {
          "color": "#2c3e50",
          "family": "Arial",
          "size": 10
         },
         "textposition": "top center",
         "type": "scattergeo"
        },
        {
         "hoverinfo": "text",
         "hovertext": "<b>Finlandia</b><br><br>Conexiones:<br>← España (121.47%)<br>← Portugal (188.46%)",
         "lat": [
          60.1699
         ],
         "lon": [
          24.9384
         ],
         "marker": {
          "color": "#2c3e50",
          "line": {
           "color": "white",
           "width": 0.5
          },
          "opacity": 0.7,
          "size": 10
         },
         "mode": "markers+text",
         "showlegend": false,
         "text": "Finlandia",
         "textfont": {
          "color": "#2c3e50",
          "family": "Arial",
          "size": 10
         },
         "textposition": "top center",
         "type": "scattergeo"
        },
        {
         "hoverinfo": "text",
         "hovertext": "<b>Francia</b><br><br>Conexiones:<br>",
         "lat": [
          48.8566
         ],
         "lon": [
          2.3522
         ],
         "marker": {
          "color": "#2c3e50",
          "line": {
           "color": "white",
           "width": 0.5
          },
          "opacity": 0.7,
          "size": 10
         },
         "mode": "markers+text",
         "showlegend": false,
         "text": "Francia",
         "textfont": {
          "color": "#2c3e50",
          "family": "Arial",
          "size": 10
         },
         "textposition": "top center",
         "type": "scattergeo"
        },
        {
         "hoverinfo": "text",
         "hovertext": "<b>Ghana</b><br><br>Conexiones:<br>← Panamá (1100.0%)",
         "lat": [
          5.6037
         ],
         "lon": [
          -0.1866
         ],
         "marker": {
          "color": "#2c3e50",
          "line": {
           "color": "white",
           "width": 0.5
          },
          "opacity": 0.7,
          "size": 10
         },
         "mode": "markers+text",
         "showlegend": false,
         "text": "Ghana",
         "textfont": {
          "color": "#2c3e50",
          "family": "Arial",
          "size": 10
         },
         "textposition": "top center",
         "type": "scattergeo"
        },
        {
         "hoverinfo": "text",
         "hovertext": "<b>Guatemala</b><br><br>Conexiones:<br>",
         "lat": [
          14.6349
         ],
         "lon": [
          -90.5167
         ],
         "marker": {
          "color": "#2c3e50",
          "line": {
           "color": "white",
           "width": 0.5
          },
          "opacity": 0.7,
          "size": 10
         },
         "mode": "markers+text",
         "showlegend": false,
         "text": "Guatemala",
         "textfont": {
          "color": "#2c3e50",
          "family": "Arial",
          "size": 10
         },
         "textposition": "top center",
         "type": "scattergeo"
        },
        {
         "hoverinfo": "text",
         "hovertext": "<b>Honduras</b><br><br>Conexiones:<br>",
         "lat": [
          14.081
         ],
         "lon": [
          -87.2042
         ],
         "marker": {
          "color": "#2c3e50",
          "line": {
           "color": "white",
           "width": 0.5
          },
          "opacity": 0.7,
          "size": 10
         },
         "mode": "markers+text",
         "showlegend": false,
         "text": "Honduras",
         "textfont": {
          "color": "#2c3e50",
          "family": "Arial",
          "size": 10
         },
         "textposition": "top center",
         "type": "scattergeo"
        },
        {
         "hoverinfo": "text",
         "hovertext": "<b>Mexico</b><br><br>Conexiones:<br>← Colombia (739.6%)<br>→ Estados Unidos (198.97%)<br>→ Australia (669.9%)",
         "lat": [
          19.4326
         ],
         "lon": [
          -99.1332
         ],
         "marker": {
          "color": "#2c3e50",
          "line": {
           "color": "white",
           "width": 0.5
          },
          "opacity": 0.7,
          "size": 10
         },
         "mode": "markers+text",
         "showlegend": false,
         "text": "Mexico",
         "textfont": {
          "color": "#2c3e50",
          "family": "Arial",
          "size": 10
         },
         "textposition": "top center",
         "type": "scattergeo"
        },
        {
         "hoverinfo": "text",
         "hovertext": "<b>Moldavia</b><br><br>Conexiones:<br>← Alemania (43.66%)<br>← España (66.47%)<br>← Portugal (116.83%)",
         "lat": [
          47.0105
         ],
         "lon": [
          28.8614
         ],
         "marker": {
          "color": "#2c3e50",
          "line": {
           "color": "white",
           "width": 0.5
          },
          "opacity": 0.7,
          "size": 10
         },
         "mode": "markers+text",
         "showlegend": false,
         "text": "Moldavia",
         "textfont": {
          "color": "#2c3e50",
          "family": "Arial",
          "size": 10
         },
         "textposition": "top center",
         "type": "scattergeo"
        },
        {
         "hoverinfo": "text",
         "hovertext": "<b>Mozambique</b><br><br>Conexiones:<br>← Paraguay (2100.0%)",
         "lat": [
          -25.8913
         ],
         "lon": [
          32.5732
         ],
         "marker": {
          "color": "#2c3e50",
          "line": {
           "color": "white",
           "width": 0.5
          },
          "opacity": 0.7,
          "size": 10
         },
         "mode": "markers+text",
         "showlegend": false,
         "text": "Mozambique",
         "textfont": {
          "color": "#2c3e50",
          "family": "Arial",
          "size": 10
         },
         "textposition": "top center",
         "type": "scattergeo"
        },
        {
         "hoverinfo": "text",
         "hovertext": "<b>Nigeria</b><br><br>Conexiones:<br>← Colombia (2500.0%)<br>→ España (600.0%)",
         "lat": [
          9.0579
         ],
         "lon": [
          7.4893
         ],
         "marker": {
          "color": "#2c3e50",
          "line": {
           "color": "white",
           "width": 0.5
          },
          "opacity": 0.7,
          "size": 10
         },
         "mode": "markers+text",
         "showlegend": false,
         "text": "Nigeria",
         "textfont": {
          "color": "#2c3e50",
          "family": "Arial",
          "size": 10
         },
         "textposition": "top center",
         "type": "scattergeo"
        },
        {
         "hoverinfo": "text",
         "hovertext": "<b>Noruega</b><br><br>Conexiones:<br>",
         "lat": [
          59.9139
         ],
         "lon": [
          10.7522
         ],
         "marker": {
          "color": "#2c3e50",
          "line": {
           "color": "white",
           "width": 0.5
          },
          "opacity": 0.7,
          "size": 10
         },
         "mode": "markers+text",
         "showlegend": false,
         "text": "Noruega",
         "textfont": {
          "color": "#2c3e50",
          "family": "Arial",
          "size": 10
         },
         "textposition": "top center",
         "type": "scattergeo"
        },
        {
         "hoverinfo": "text",
         "hovertext": "<b>Países Bajos</b><br><br>Conexiones:<br>← Brasil (1485.13%)<br>← Ecuador (1906.66%)",
         "lat": [
          52.3676
         ],
         "lon": [
          4.8952
         ],
         "marker": {
          "color": "#2c3e50",
          "line": {
           "color": "white",
           "width": 0.5
          },
          "opacity": 0.7,
          "size": 10
         },
         "mode": "markers+text",
         "showlegend": false,
         "text": "Países Bajos",
         "textfont": {
          "color": "#2c3e50",
          "family": "Arial",
          "size": 10
         },
         "textposition": "top center",
         "type": "scattergeo"
        },
        {
         "hoverinfo": "text",
         "hovertext": "<b>Panamá</b><br><br>Conexiones:<br>→ Ghana (1100.0%)",
         "lat": [
          8.9943
         ],
         "lon": [
          -79.5167
         ],
         "marker": {
          "color": "#2c3e50",
          "line": {
           "color": "white",
           "width": 0.5
          },
          "opacity": 0.7,
          "size": 10
         },
         "mode": "markers+text",
         "showlegend": false,
         "text": "Panamá",
         "textfont": {
          "color": "#2c3e50",
          "family": "Arial",
          "size": 10
         },
         "textposition": "top center",
         "type": "scattergeo"
        },
        {
         "hoverinfo": "text",
         "hovertext": "<b>Paraguay</b><br><br>Conexiones:<br>→ Alemania (555.59%)<br>→ Mozambique (2100.0%)",
         "lat": [
          -25.2637
         ],
         "lon": [
          -57.5759
         ],
         "marker": {
          "color": "#2c3e50",
          "line": {
           "color": "white",
           "width": 0.5
          },
          "opacity": 0.7,
          "size": 10
         },
         "mode": "markers+text",
         "showlegend": false,
         "text": "Paraguay",
         "textfont": {
          "color": "#2c3e50",
          "family": "Arial",
          "size": 10
         },
         "textposition": "top center",
         "type": "scattergeo"
        },
        {
         "hoverinfo": "text",
         "hovertext": "<b>Perú</b><br><br>Conexiones:<br>→ Sudáfrica (1800.0%)",
         "lat": [
          -12.0464
         ],
         "lon": [
          -77.0428
         ],
         "marker": {
          "color": "#2c3e50",
          "line": {
           "color": "white",
           "width": 0.5
          },
          "opacity": 0.7,
          "size": 10
         },
         "mode": "markers+text",
         "showlegend": false,
         "text": "Perú",
         "textfont": {
          "color": "#2c3e50",
          "family": "Arial",
          "size": 10
         },
         "textposition": "top center",
         "type": "scattergeo"
        },
        {
         "hoverinfo": "text",
         "hovertext": "<b>Polonia</b><br><br>Conexiones:<br>→ Ucrania (200.0%)",
         "lat": [
          52.237
         ],
         "lon": [
          21.0175
         ],
         "marker": {
          "color": "#2c3e50",
          "line": {
           "color": "white",
           "width": 0.5
          },
          "opacity": 0.7,
          "size": 10
         },
         "mode": "markers+text",
         "showlegend": false,
         "text": "Polonia",
         "textfont": {
          "color": "#2c3e50",
          "family": "Arial",
          "size": 10
         },
         "textposition": "top center",
         "type": "scattergeo"
        },
        {
         "hoverinfo": "text",
         "hovertext": "<b>Portugal</b><br><br>Conexiones:<br>← Brasil (1141.82%)<br>← Cabo Verde (750.0%)<br>← Ecuador (1472.06%)<br>→ Finlandia (188.46%)<br>→ Moldavia (116.83%)",
         "lat": [
          38.7223
         ],
         "lon": [
          -9.1393
         ],
         "marker": {
          "color": "#2c3e50",
          "line": {
           "color": "white",
           "width": 0.5
          },
          "opacity": 0.7,
          "size": 10
         },
         "mode": "markers+text",
         "showlegend": false,
         "text": "Portugal",
         "textfont": {
          "color": "#2c3e50",
          "family": "Arial",
          "size": 10
         },
         "textposition": "top center",
         "type": "scattergeo"
        },
        {
         "hoverinfo": "text",
         "hovertext": "<b>Reino Unido</b><br><br>Conexiones:<br>",
         "lat": [
          51.5074
         ],
         "lon": [
          -0.1276
         ],
         "marker": {
          "color": "#2c3e50",
          "line": {
           "color": "white",
           "width": 0.5
          },
          "opacity": 0.7,
          "size": 10
         },
         "mode": "markers+text",
         "showlegend": false,
         "text": "Reino Unido",
         "textfont": {
          "color": "#2c3e50",
          "family": "Arial",
          "size": 10
         },
         "textposition": "top center",
         "type": "scattergeo"
        },
        {
         "hoverinfo": "text",
         "hovertext": "<b>República Dominicana</b><br><br>Conexiones:<br>",
         "lat": [
          18.4861
         ],
         "lon": [
          -69.9312
         ],
         "marker": {
          "color": "#2c3e50",
          "line": {
           "color": "white",
           "width": 0.5
          },
          "opacity": 0.7,
          "size": 10
         },
         "mode": "markers+text",
         "showlegend": false,
         "text": "República Dominicana",
         "textfont": {
          "color": "#2c3e50",
          "family": "Arial",
          "size": 10
         },
         "textposition": "top center",
         "type": "scattergeo"
        },
        {
         "hoverinfo": "text",
         "hovertext": "<b>Sudáfrica</b><br><br>Conexiones:<br>← Perú (1800.0%)",
         "lat": [
          -25.7313
         ],
         "lon": [
          28.1871
         ],
         "marker": {
          "color": "#2c3e50",
          "line": {
           "color": "white",
           "width": 0.5
          },
          "opacity": 0.7,
          "size": 10
         },
         "mode": "markers+text",
         "showlegend": false,
         "text": "Sudáfrica",
         "textfont": {
          "color": "#2c3e50",
          "family": "Arial",
          "size": 10
         },
         "textposition": "top center",
         "type": "scattergeo"
        },
        {
         "hoverinfo": "text",
         "hovertext": "<b>Turquía</b><br><br>Conexiones:<br>→ Alemania (180.0%)<br>← Venezuela (1500.0%)",
         "lat": [
          39.9334
         ],
         "lon": [
          32.8597
         ],
         "marker": {
          "color": "#2c3e50",
          "line": {
           "color": "white",
           "width": 0.5
          },
          "opacity": 0.7,
          "size": 10
         },
         "mode": "markers+text",
         "showlegend": false,
         "text": "Turquía",
         "textfont": {
          "color": "#2c3e50",
          "family": "Arial",
          "size": 10
         },
         "textposition": "top center",
         "type": "scattergeo"
        },
        {
         "hoverinfo": "text",
         "hovertext": "<b>Ucrania</b><br><br>Conexiones:<br>← Polonia (200.0%)",
         "lat": [
          50.4501
         ],
         "lon": [
          30.5234
         ],
         "marker": {
          "color": "#2c3e50",
          "line": {
           "color": "white",
           "width": 0.5
          },
          "opacity": 0.7,
          "size": 10
         },
         "mode": "markers+text",
         "showlegend": false,
         "text": "Ucrania",
         "textfont": {
          "color": "#2c3e50",
          "family": "Arial",
          "size": 10
         },
         "textposition": "top center",
         "type": "scattergeo"
        },
        {
         "hoverinfo": "text",
         "hovertext": "<b>Uruguay</b><br><br>Conexiones:<br>→ Alemania (519.31%)",
         "lat": [
          -34.9011
         ],
         "lon": [
          -56.1645
         ],
         "marker": {
          "color": "#2c3e50",
          "line": {
           "color": "white",
           "width": 0.5
          },
          "opacity": 0.7,
          "size": 10
         },
         "mode": "markers+text",
         "showlegend": false,
         "text": "Uruguay",
         "textfont": {
          "color": "#2c3e50",
          "family": "Arial",
          "size": 10
         },
         "textposition": "top center",
         "type": "scattergeo"
        },
        {
         "hoverinfo": "text",
         "hovertext": "<b>Venezuela</b><br><br>Conexiones:<br>→ Turquía (1500.0%)",
         "lat": [
          10.4806
         ],
         "lon": [
          -66.9036
         ],
         "marker": {
          "color": "#2c3e50",
          "line": {
           "color": "white",
           "width": 0.5
          },
          "opacity": 0.7,
          "size": 10
         },
         "mode": "markers+text",
         "showlegend": false,
         "text": "Venezuela",
         "textfont": {
          "color": "#2c3e50",
          "family": "Arial",
          "size": 10
         },
         "textposition": "top center",
         "type": "scattergeo"
        },
        {
         "hoverinfo": "text",
         "hovertext": "Colombia → Costa Rica<br>Δ Precio: 500.81%",
         "lat": [
          4.5709,
          9.7489
         ],
         "legendgroup": "América",
         "line": {
          "color": "#1f77b4",
          "width": 1.43820875
         },
         "lon": [
          -74.2973,
          -84.0907
         ],
         "mode": "lines",
         "opacity": 0.7,
         "showlegend": false,
         "type": "scattergeo",
         "visible": "legendonly"
        },
        {
         "hoverinfo": "text",
         "hovertext": "Colombia → Mexico<br>Δ Precio: 739.6%",
         "lat": [
          4.5709,
          19.4326
         ],
         "legendgroup": "América",
         "line": {
          "color": "#1f77b4",
          "width": 1.64715
         },
         "lon": [
          -74.2973,
          -99.1332
         ],
         "mode": "lines",
         "opacity": 0.7,
         "showlegend": false,
         "type": "scattergeo",
         "visible": "legendonly"
        },
        {
         "hoverinfo": "text",
         "hovertext": "Mexico → Estados Unidos<br>Δ Precio: 198.97%",
         "lat": [
          19.4326,
          37.0902
         ],
         "legendgroup": "América",
         "line": {
          "color": "#1f77b4",
          "width": 1.17409875
         },
         "lon": [
          -99.1332,
          -95.7129
         ],
         "mode": "lines",
         "opacity": 0.7,
         "showlegend": false,
         "type": "scattergeo",
         "visible": "legendonly"
        },
        {
         "lat": [
          null
         ],
         "legendgroup": "América",
         "line": {
          "color": "#1f77b4",
          "width": 2
         },
         "lon": [
          null
         ],
         "mode": "lines",
         "name": "América",
         "showlegend": true,
         "type": "scattergeo"
        },
        {
         "hoverinfo": "text",
         "hovertext": "Ecuador → Alemania<br>Δ Precio: 2272.82%",
         "lat": [
          -0.1807,
          52.52
         ],
         "legendgroup": "América-Europa",
         "line": {
          "color": "#ff7f0e",
          "width": 2.9887175000000004
         },
         "lon": [
          -78.4678,
          13.4049
         ],
         "mode": "lines",
         "opacity": 0.7,
         "showlegend": false,
         "type": "scattergeo",
         "visible": "legendonly"
        },
        {
         "hoverinfo": "text",
         "hovertext": "Brasil → Alemania<br>Δ Precio: 1774.37%",
         "lat": [
          -15.7801,
          52.52
         ],
         "legendgroup": "América-Europa",
         "line": {
          "color": "#ff7f0e",
          "width": 2.5525737499999996
         },
         "lon": [
          -47.9297,
          13.4049
         ],
         "mode": "lines",
         "opacity": 0.7,
         "showlegend": false,
         "type": "scattergeo",
         "visible": "legendonly"
        },
        {
         "hoverinfo": "text",
         "hovertext": "Brasil → España<br>Δ Precio: 1517.49%",
         "lat": [
          -15.7801,
          40.4168
         ],
         "legendgroup": "América-Europa",
         "line": {
          "color": "#ff7f0e",
          "width": 2.32780375
         },
         "lon": [
          -47.9297,
          -3.7038
         ],
         "mode": "lines",
         "opacity": 0.7,
         "showlegend": false,
         "type": "scattergeo",
         "visible": "legendonly"
        },
        {
         "hoverinfo": "text",
         "hovertext": "Argentina → Alemania<br>Δ Precio: 800.81%",
         "lat": [
          -34.6037,
          52.52
         ],
         "legendgroup": "América-Europa",
         "line": {
          "color": "#ff7f0e",
          "width": 1.70070875
         },
         "lon": [
          -58.3816,
          13.4049
         ],
         "mode": "lines",
         "opacity": 0.7,
         "showlegend": false,
         "type": "scattergeo",
         "visible": "legendonly"
        },
        {
         "hoverinfo": "text",
         "hovertext": "Argentina → España<br>Δ Precio: 677.35%",
         "lat": [
          -34.6037,
          40.4168
         ],
         "legendgroup": "América-Europa",
         "line": {
          "color": "#ff7f0e",
          "width": 1.59268125
         },
         "lon": [
          -58.3816,
          -3.7038
         ],
         "mode": "lines",
         "opacity": 0.7,
         "showlegend": false,
         "type": "scattergeo",
         "visible": "legendonly"
        },
        {
         "hoverinfo": "text",
         "hovertext": "Paraguay → Alemania<br>Δ Precio: 555.59%",
         "lat": [
          -25.2637,
          52.52
         ],
         "legendgroup": "América-Europa",
         "line": {
          "color": "#ff7f0e",
          "width": 1.48614125
         },
         "lon": [
          -57.5759,
          13.4049
         ],
         "mode": "lines",
         "opacity": 0.7,
         "showlegend": false,
         "type": "scattergeo",
         "visible": "legendonly"
        },
        {
         "hoverinfo": "text",
         "hovertext": "Uruguay → Alemania<br>Δ Precio: 519.31%",
         "lat": [
          -34.9011,
          52.52
         ],
         "legendgroup": "América-Europa",
         "line": {
          "color": "#ff7f0e",
          "width": 1.4543962499999998
         },
         "lon": [
          -56.1645,
          13.4049
         ],
         "mode": "lines",
         "opacity": 0.7,
         "showlegend": false,
         "type": "scattergeo",
         "visible": "legendonly"
        },
        {
         "hoverinfo": "text",
         "hovertext": "Ecuador → España<br>Δ Precio: 1947.63%",
         "lat": [
          -0.1807,
          40.4168
         ],
         "legendgroup": "América-Europa",
         "line": {
          "color": "#ff7f0e",
          "width": 2.70417625
         },
         "lon": [
          -78.4678,
          -3.7038
         ],
         "mode": "lines",
         "opacity": 0.7,
         "showlegend": false,
         "type": "scattergeo",
         "visible": "legendonly"
        },
        {
         "hoverinfo": "text",
         "hovertext": "Ecuador → Países Bajos<br>Δ Precio: 1906.66%",
         "lat": [
          -0.1807,
          52.3676
         ],
         "legendgroup": "América-Europa",
         "line": {
          "color": "#ff7f0e",
          "width": 2.6683275
         },
         "lon": [
          -78.4678,
          4.8952
         ],
         "mode": "lines",
         "opacity": 0.7,
         "showlegend": false,
         "type": "scattergeo",
         "visible": "legendonly"
        },
        {
         "hoverinfo": "text",
         "hovertext": "Brasil → Países Bajos<br>Δ Precio: 1485.13%",
         "lat": [
          -15.7801,
          52.3676
         ],
         "legendgroup": "América-Europa",
         "line": {
          "color": "#ff7f0e",
          "width": 2.29948875
         },
         "lon": [
          -47.9297,
          4.8952
         ],
         "mode": "lines",
         "opacity": 0.7,
         "showlegend": false,
         "type": "scattergeo",
         "visible": "legendonly"
        },
        {
         "hoverinfo": "text",
         "hovertext": "Brasil → Bélgica<br>Δ Precio: 1339.1%",
         "lat": [
          -15.7801,
          50.8503
         ],
         "legendgroup": "América-Europa",
         "line": {
          "color": "#ff7f0e",
          "width": 2.1717125
         },
         "lon": [
          -47.9297,
          4.3517
         ],
         "mode": "lines",
         "opacity": 0.7,
         "showlegend": false,
         "type": "scattergeo",
         "visible": "legendonly"
        },
        {
         "hoverinfo": "text",
         "hovertext": "Ecuador → Bélgica<br>Δ Precio: 1721.8%",
         "lat": [
          -0.1807,
          50.8503
         ],
         "legendgroup": "América-Europa",
         "line": {
          "color": "#ff7f0e",
          "width": 2.5065749999999998
         },
         "lon": [
          -78.4678,
          4.3517
         ],
         "mode": "lines",
         "opacity": 0.7,
         "showlegend": false,
         "type": "scattergeo",
         "visible": "legendonly"
        },
        {
         "hoverinfo": "text",
         "hovertext": "Ecuador → Portugal<br>Δ Precio: 1472.06%",
         "lat": [
          -0.1807,
          38.7223
         ],
         "legendgroup": "América-Europa",
         "line": {
          "color": "#ff7f0e",
          "width": 2.2880525
         },
         "lon": [
          -78.4678,
          -9.1393
         ],
         "mode": "lines",
         "opacity": 0.7,
         "showlegend": false,
         "type": "scattergeo",
         "visible": "legendonly"
        },
        {
         "hoverinfo": "text",
         "hovertext": "Brasil → Portugal<br>Δ Precio: 1141.82%",
         "lat": [
          -15.7801,
          38.7223
         ],
         "legendgroup": "América-Europa",
         "line": {
          "color": "#ff7f0e",
          "width": 1.9990924999999997
         },
         "lon": [
          -47.9297,
          -9.1393
         ],
         "mode": "lines",
         "opacity": 0.7,
         "showlegend": false,
         "type": "scattergeo",
         "visible": "legendonly"
        },
        {
         "lat": [
          null
         ],
         "legendgroup": "América-Europa",
         "line": {
          "color": "#ff7f0e",
          "width": 2
         },
         "lon": [
          null
         ],
         "mode": "lines",
         "name": "América-Europa",
         "showlegend": true,
         "type": "scattergeo"
        },
        {
         "hoverinfo": "text",
         "hovertext": "España → Finlandia<br>Δ Precio: 121.47%",
         "lat": [
          40.4168,
          60.1699
         ],
         "legendgroup": "Europa",
         "line": {
          "color": "#2ca02c",
          "width": 1.10628625
         },
         "lon": [
          -3.7038,
          24.9384
         ],
         "mode": "lines",
         "opacity": 0.7,
         "showlegend": false,
         "type": "scattergeo",
         "visible": "legendonly"
        },
        {
         "hoverinfo": "text",
         "hovertext": "España → Moldavia<br>Δ Precio: 66.47%",
         "lat": [
          40.4168,
          47.0105
         ],
         "legendgroup": "Europa",
         "line": {
          "color": "#2ca02c",
          "width": 1.05816125
         },
         "lon": [
          -3.7038,
          28.8614
         ],
         "mode": "lines",
         "opacity": 0.7,
         "showlegend": false,
         "type": "scattergeo",
         "visible": "legendonly"
        },
        {
         "hoverinfo": "text",
         "hovertext": "Portugal → Finlandia<br>Δ Precio: 188.46%",
         "lat": [
          38.7223,
          60.1699
         ],
         "legendgroup": "Europa",
         "line": {
          "color": "#2ca02c",
          "width": 1.1649025
         },
         "lon": [
          -9.1393,
          24.9384
         ],
         "mode": "lines",
         "opacity": 0.7,
         "showlegend": false,
         "type": "scattergeo",
         "visible": "legendonly"
        },
        {
         "hoverinfo": "text",
         "hovertext": "Portugal → Moldavia<br>Δ Precio: 116.83%",
         "lat": [
          38.7223,
          47.0105
         ],
         "legendgroup": "Europa",
         "line": {
          "color": "#2ca02c",
          "width": 1.10222625
         },
         "lon": [
          -9.1393,
          28.8614
         ],
         "mode": "lines",
         "opacity": 0.7,
         "showlegend": false,
         "type": "scattergeo",
         "visible": "legendonly"
        },
        {
         "hoverinfo": "text",
         "hovertext": "Alemania → Austria<br>Δ Precio: 20.04%",
         "lat": [
          52.52,
          48.2082
         ],
         "legendgroup": "Europa",
         "line": {
          "color": "#2ca02c",
          "width": 1.017535
         },
         "lon": [
          13.4049,
          16.3738
         ],
         "mode": "lines",
         "opacity": 0.7,
         "showlegend": false,
         "type": "scattergeo",
         "visible": "legendonly"
        },
        {
         "hoverinfo": "text",
         "hovertext": "Alemania → Moldavia<br>Δ Precio: 43.66%",
         "lat": [
          52.52,
          47.0105
         ],
         "legendgroup": "Europa",
         "line": {
          "color": "#2ca02c",
          "width": 1.0382025
         },
         "lon": [
          13.4049,
          28.8614
         ],
         "mode": "lines",
         "opacity": 0.7,
         "showlegend": false,
         "type": "scattergeo",
         "visible": "legendonly"
        },
        {
         "lat": [
          null
         ],
         "legendgroup": "Europa",
         "line": {
          "color": "#2ca02c",
          "width": 2
         },
         "lon": [
          null
         ],
         "mode": "lines",
         "name": "Europa",
         "showlegend": true,
         "type": "scattergeo"
        },
        {
         "hoverinfo": "text",
         "hovertext": "Colombia → Nigeria<br>Δ Precio: 2500.0%",
         "lat": [
          4.5709,
          9.0579
         ],
         "legendgroup": "Intercontinentales",
         "line": {
          "color": "#d62728",
          "width": 3.1875
         },
         "lon": [
          -74.2973,
          7.4893
         ],
         "mode": "lines",
         "opacity": 0.7,
         "showlegend": false,
         "type": "scattergeo",
         "visible": "legendonly"
        },
        {
         "hoverinfo": "text",
         "hovertext": "Nigeria → España<br>Δ Precio: 600.0%",
         "lat": [
          9.0579,
          40.4168
         ],
         "legendgroup": "Intercontinentales",
         "line": {
          "color": "#d62728",
          "width": 1.525
         },
         "lon": [
          7.4893,
          -3.7038
         ],
         "mode": "lines",
         "opacity": 0.7,
         "showlegend": false,
         "type": "scattergeo",
         "visible": "legendonly"
        },
        {
         "hoverinfo": "text",
         "hovertext": "Mexico → Australia<br>Δ Precio: 669.9%",
         "lat": [
          19.4326,
          -33.8688
         ],
         "legendgroup": "Intercontinentales",
         "line": {
          "color": "#d62728",
          "width": 1.5861625
         },
         "lon": [
          -99.1332,
          151.2093
         ],
         "mode": "lines",
         "opacity": 0.7,
         "showlegend": false,
         "type": "scattergeo",
         "visible": "legendonly"
        },
        {
         "hoverinfo": "text",
         "hovertext": "Perú → Sudáfrica<br>Δ Precio: 1800.0%",
         "lat": [
          -12.0464,
          -25.7313
         ],
         "legendgroup": "Intercontinentales",
         "line": {
          "color": "#d62728",
          "width": 2.575
         },
         "lon": [
          -77.0428,
          28.1871
         ],
         "mode": "lines",
         "opacity": 0.7,
         "showlegend": false,
         "type": "scattergeo",
         "visible": "legendonly"
        },
        {
         "hoverinfo": "text",
         "hovertext": "Brasil → Angola<br>Δ Precio: 890.0%",
         "lat": [
          -15.7801,
          -8.8159
         ],
         "legendgroup": "Intercontinentales",
         "line": {
          "color": "#d62728",
          "width": 1.77875
         },
         "lon": [
          -47.9297,
          13.2316
         ],
         "mode": "lines",
         "opacity": 0.7,
         "showlegend": false,
         "type": "scattergeo",
         "visible": "legendonly"
        },
        {
         "hoverinfo": "text",
         "hovertext": "Venezuela → Turquía<br>Δ Precio: 1500.0%",
         "lat": [
          10.4806,
          39.9334
         ],
         "legendgroup": "Intercontinentales",
         "line": {
          "color": "#d62728",
          "width": 2.3125
         },
         "lon": [
          -66.9036,
          32.8597
         ],
         "mode": "lines",
         "opacity": 0.7,
         "showlegend": false,
         "type": "scattergeo",
         "visible": "legendonly"
        },
        {
         "hoverinfo": "text",
         "hovertext": "Paraguay → Mozambique<br>Δ Precio: 2100.0%",
         "lat": [
          -25.2637,
          -25.8913
         ],
         "legendgroup": "Intercontinentales",
         "line": {
          "color": "#d62728",
          "width": 2.8375000000000004
         },
         "lon": [
          -57.5759,
          32.5732
         ],
         "mode": "lines",
         "opacity": 0.7,
         "showlegend": false,
         "type": "scattergeo",
         "visible": "legendonly"
        },
        {
         "lat": [
          null
         ],
         "legendgroup": "Intercontinentales",
         "line": {
          "color": "#d62728",
          "width": 2
         },
         "lon": [
          null
         ],
         "mode": "lines",
         "name": "Intercontinentales",
         "showlegend": true,
         "type": "scattergeo"
        },
        {
         "hoverinfo": "text",
         "hovertext": "Panamá → Ghana<br>Δ Precio: 1100.0%",
         "lat": [
          8.9943,
          5.6037
         ],
         "legendgroup": "Ajustes 2024",
         "line": {
          "color": "#9467bd",
          "width": 1.9625000000000001
         },
         "lon": [
          -79.5167,
          -0.1866
         ],
         "mode": "lines",
         "opacity": 0.7,
         "showlegend": false,
         "type": "scattergeo",
         "visible": "legendonly"
        },
        {
         "hoverinfo": "text",
         "hovertext": "Cabo Verde → Portugal<br>Δ Precio: 750.0%",
         "lat": [
          15.1201,
          38.7223
         ],
         "legendgroup": "Ajustes 2024",
         "line": {
          "color": "#9467bd",
          "width": 1.65625
         },
         "lon": [
          -23.5133,
          -9.1393
         ],
         "mode": "lines",
         "opacity": 0.7,
         "showlegend": false,
         "type": "scattergeo",
         "visible": "legendonly"
        },
        {
         "hoverinfo": "text",
         "hovertext": "Polonia → Ucrania<br>Δ Precio: 200.0%",
         "lat": [
          52.237,
          50.4501
         ],
         "legendgroup": "Ajustes 2024",
         "line": {
          "color": "#9467bd",
          "width": 1.175
         },
         "lon": [
          21.0175,
          30.5234
         ],
         "mode": "lines",
         "opacity": 0.7,
         "showlegend": false,
         "type": "scattergeo",
         "visible": "legendonly"
        },
        {
         "hoverinfo": "text",
         "hovertext": "Turquía → Alemania<br>Δ Precio: 180.0%",
         "lat": [
          39.9334,
          52.52
         ],
         "legendgroup": "Ajustes 2024",
         "line": {
          "color": "#9467bd",
          "width": 1.1575
         },
         "lon": [
          32.8597,
          13.4049
         ],
         "mode": "lines",
         "opacity": 0.7,
         "showlegend": false,
         "type": "scattergeo",
         "visible": "legendonly"
        },
        {
         "lat": [
          null
         ],
         "legendgroup": "Ajustes 2024",
         "line": {
          "color": "#9467bd",
          "width": 2
         },
         "lon": [
          null
         ],
         "mode": "lines",
         "name": "Ajustes 2024",
         "showlegend": true,
         "type": "scattergeo"
        },
        {
         "lat": [
          null
         ],
         "line": {
          "color": "gray",
          "width": 1
         },
         "lon": [
          null
         ],
         "mode": "lines",
         "name": "Δ Precio: 0%",
         "showlegend": true,
         "type": "scattergeo"
        },
        {
         "lat": [
          null
         ],
         "line": {
          "color": "gray",
          "width": 2.75
         },
         "lon": [
          null
         ],
         "mode": "lines",
         "name": "Δ Precio: 2000%",
         "showlegend": true,
         "type": "scattergeo"
        },
        {
         "lat": [
          null
         ],
         "line": {
          "color": "gray",
          "width": 4.5
         },
         "lon": [
          null
         ],
         "mode": "lines",
         "name": "Δ Precio: 4000%",
         "showlegend": true,
         "type": "scattergeo"
        },
        {
         "lat": [
          null
         ],
         "line": {
          "color": "gray",
          "width": 6.25
         },
         "lon": [
          null
         ],
         "mode": "lines",
         "name": "Δ Precio: 6000%",
         "showlegend": true,
         "type": "scattergeo"
        }
       ],
       "layout": {
        "geo": {
         "coastlinecolor": "rgb(150, 150, 150)",
         "countrycolor": "rgb(200, 200, 200)",
         "landcolor": "rgb(243, 243, 243)",
         "projection": {
          "type": "natural earth"
         },
         "showcountries": true,
         "showland": true
        },
        "height": 750,
        "legend": {
         "bgcolor": "rgba(255,255,255,0.9)",
         "bordercolor": "#CCCCCC",
         "borderwidth": 1,
         "font": {
          "size": 10
         },
         "title": {
          "text": "Leyenda:<br>Color = Categoría<br>Grosor = Incremento"
         },
         "x": 0.02,
         "xanchor": "left",
         "y": 0.97,
         "yanchor": "top"
        },
        "margin": {
         "b": 0,
         "l": 0,
         "r": 0,
         "t": 90
        },
        "template": {
         "data": {
          "bar": [
           {
            "error_x": {
             "color": "#2a3f5f"
            },
            "error_y": {
             "color": "#2a3f5f"
            },
            "marker": {
             "line": {
              "color": "white",
              "width": 0.5
             },
             "pattern": {
              "fillmode": "overlay",
              "size": 10,
              "solidity": 0.2
             }
            },
            "type": "bar"
           }
          ],
          "barpolar": [
           {
            "marker": {
             "line": {
              "color": "white",
              "width": 0.5
             },
             "pattern": {
              "fillmode": "overlay",
              "size": 10,
              "solidity": 0.2
             }
            },
            "type": "barpolar"
           }
          ],
          "carpet": [
           {
            "aaxis": {
             "endlinecolor": "#2a3f5f",
             "gridcolor": "#C8D4E3",
             "linecolor": "#C8D4E3",
             "minorgridcolor": "#C8D4E3",
             "startlinecolor": "#2a3f5f"
            },
            "baxis": {
             "endlinecolor": "#2a3f5f",
             "gridcolor": "#C8D4E3",
             "linecolor": "#C8D4E3",
             "minorgridcolor": "#C8D4E3",
             "startlinecolor": "#2a3f5f"
            },
            "type": "carpet"
           }
          ],
          "choropleth": [
           {
            "colorbar": {
             "outlinewidth": 0,
             "ticks": ""
            },
            "type": "choropleth"
           }
          ],
          "contour": [
           {
            "colorbar": {
             "outlinewidth": 0,
             "ticks": ""
            },
            "colorscale": [
             [
              0,
              "#0d0887"
             ],
             [
              0.1111111111111111,
              "#46039f"
             ],
             [
              0.2222222222222222,
              "#7201a8"
             ],
             [
              0.3333333333333333,
              "#9c179e"
             ],
             [
              0.4444444444444444,
              "#bd3786"
             ],
             [
              0.5555555555555556,
              "#d8576b"
             ],
             [
              0.6666666666666666,
              "#ed7953"
             ],
             [
              0.7777777777777778,
              "#fb9f3a"
             ],
             [
              0.8888888888888888,
              "#fdca26"
             ],
             [
              1,
              "#f0f921"
             ]
            ],
            "type": "contour"
           }
          ],
          "contourcarpet": [
           {
            "colorbar": {
             "outlinewidth": 0,
             "ticks": ""
            },
            "type": "contourcarpet"
           }
          ],
          "heatmap": [
           {
            "colorbar": {
             "outlinewidth": 0,
             "ticks": ""
            },
            "colorscale": [
             [
              0,
              "#0d0887"
             ],
             [
              0.1111111111111111,
              "#46039f"
             ],
             [
              0.2222222222222222,
              "#7201a8"
             ],
             [
              0.3333333333333333,
              "#9c179e"
             ],
             [
              0.4444444444444444,
              "#bd3786"
             ],
             [
              0.5555555555555556,
              "#d8576b"
             ],
             [
              0.6666666666666666,
              "#ed7953"
             ],
             [
              0.7777777777777778,
              "#fb9f3a"
             ],
             [
              0.8888888888888888,
              "#fdca26"
             ],
             [
              1,
              "#f0f921"
             ]
            ],
            "type": "heatmap"
           }
          ],
          "heatmapgl": [
           {
            "colorbar": {
             "outlinewidth": 0,
             "ticks": ""
            },
            "colorscale": [
             [
              0,
              "#0d0887"
             ],
             [
              0.1111111111111111,
              "#46039f"
             ],
             [
              0.2222222222222222,
              "#7201a8"
             ],
             [
              0.3333333333333333,
              "#9c179e"
             ],
             [
              0.4444444444444444,
              "#bd3786"
             ],
             [
              0.5555555555555556,
              "#d8576b"
             ],
             [
              0.6666666666666666,
              "#ed7953"
             ],
             [
              0.7777777777777778,
              "#fb9f3a"
             ],
             [
              0.8888888888888888,
              "#fdca26"
             ],
             [
              1,
              "#f0f921"
             ]
            ],
            "type": "heatmapgl"
           }
          ],
          "histogram": [
           {
            "marker": {
             "pattern": {
              "fillmode": "overlay",
              "size": 10,
              "solidity": 0.2
             }
            },
            "type": "histogram"
           }
          ],
          "histogram2d": [
           {
            "colorbar": {
             "outlinewidth": 0,
             "ticks": ""
            },
            "colorscale": [
             [
              0,
              "#0d0887"
             ],
             [
              0.1111111111111111,
              "#46039f"
             ],
             [
              0.2222222222222222,
              "#7201a8"
             ],
             [
              0.3333333333333333,
              "#9c179e"
             ],
             [
              0.4444444444444444,
              "#bd3786"
             ],
             [
              0.5555555555555556,
              "#d8576b"
             ],
             [
              0.6666666666666666,
              "#ed7953"
             ],
             [
              0.7777777777777778,
              "#fb9f3a"
             ],
             [
              0.8888888888888888,
              "#fdca26"
             ],
             [
              1,
              "#f0f921"
             ]
            ],
            "type": "histogram2d"
           }
          ],
          "histogram2dcontour": [
           {
            "colorbar": {
             "outlinewidth": 0,
             "ticks": ""
            },
            "colorscale": [
             [
              0,
              "#0d0887"
             ],
             [
              0.1111111111111111,
              "#46039f"
             ],
             [
              0.2222222222222222,
              "#7201a8"
             ],
             [
              0.3333333333333333,
              "#9c179e"
             ],
             [
              0.4444444444444444,
              "#bd3786"
             ],
             [
              0.5555555555555556,
              "#d8576b"
             ],
             [
              0.6666666666666666,
              "#ed7953"
             ],
             [
              0.7777777777777778,
              "#fb9f3a"
             ],
             [
              0.8888888888888888,
              "#fdca26"
             ],
             [
              1,
              "#f0f921"
             ]
            ],
            "type": "histogram2dcontour"
           }
          ],
          "mesh3d": [
           {
            "colorbar": {
             "outlinewidth": 0,
             "ticks": ""
            },
            "type": "mesh3d"
           }
          ],
          "parcoords": [
           {
            "line": {
             "colorbar": {
              "outlinewidth": 0,
              "ticks": ""
             }
            },
            "type": "parcoords"
           }
          ],
          "pie": [
           {
            "automargin": true,
            "type": "pie"
           }
          ],
          "scatter": [
           {
            "fillpattern": {
             "fillmode": "overlay",
             "size": 10,
             "solidity": 0.2
            },
            "type": "scatter"
           }
          ],
          "scatter3d": [
           {
            "line": {
             "colorbar": {
              "outlinewidth": 0,
              "ticks": ""
             }
            },
            "marker": {
             "colorbar": {
              "outlinewidth": 0,
              "ticks": ""
             }
            },
            "type": "scatter3d"
           }
          ],
          "scattercarpet": [
           {
            "marker": {
             "colorbar": {
              "outlinewidth": 0,
              "ticks": ""
             }
            },
            "type": "scattercarpet"
           }
          ],
          "scattergeo": [
           {
            "marker": {
             "colorbar": {
              "outlinewidth": 0,
              "ticks": ""
             }
            },
            "type": "scattergeo"
           }
          ],
          "scattergl": [
           {
            "marker": {
             "colorbar": {
              "outlinewidth": 0,
              "ticks": ""
             }
            },
            "type": "scattergl"
           }
          ],
          "scattermapbox": [
           {
            "marker": {
             "colorbar": {
              "outlinewidth": 0,
              "ticks": ""
             }
            },
            "type": "scattermapbox"
           }
          ],
          "scatterpolar": [
           {
            "marker": {
             "colorbar": {
              "outlinewidth": 0,
              "ticks": ""
             }
            },
            "type": "scatterpolar"
           }
          ],
          "scatterpolargl": [
           {
            "marker": {
             "colorbar": {
              "outlinewidth": 0,
              "ticks": ""
             }
            },
            "type": "scatterpolargl"
           }
          ],
          "scatterternary": [
           {
            "marker": {
             "colorbar": {
              "outlinewidth": 0,
              "ticks": ""
             }
            },
            "type": "scatterternary"
           }
          ],
          "surface": [
           {
            "colorbar": {
             "outlinewidth": 0,
             "ticks": ""
            },
            "colorscale": [
             [
              0,
              "#0d0887"
             ],
             [
              0.1111111111111111,
              "#46039f"
             ],
             [
              0.2222222222222222,
              "#7201a8"
             ],
             [
              0.3333333333333333,
              "#9c179e"
             ],
             [
              0.4444444444444444,
              "#bd3786"
             ],
             [
              0.5555555555555556,
              "#d8576b"
             ],
             [
              0.6666666666666666,
              "#ed7953"
             ],
             [
              0.7777777777777778,
              "#fb9f3a"
             ],
             [
              0.8888888888888888,
              "#fdca26"
             ],
             [
              1,
              "#f0f921"
             ]
            ],
            "type": "surface"
           }
          ],
          "table": [
           {
            "cells": {
             "fill": {
              "color": "#EBF0F8"
             },
             "line": {
              "color": "white"
             }
            },
            "header": {
             "fill": {
              "color": "#C8D4E3"
             },
             "line": {
              "color": "white"
             }
            },
            "type": "table"
           }
          ]
         },
         "layout": {
          "annotationdefaults": {
           "arrowcolor": "#2a3f5f",
           "arrowhead": 0,
           "arrowwidth": 1
          },
          "autotypenumbers": "strict",
          "coloraxis": {
           "colorbar": {
            "outlinewidth": 0,
            "ticks": ""
           }
          },
          "colorscale": {
           "diverging": [
            [
             0,
             "#8e0152"
            ],
            [
             0.1,
             "#c51b7d"
            ],
            [
             0.2,
             "#de77ae"
            ],
            [
             0.3,
             "#f1b6da"
            ],
            [
             0.4,
             "#fde0ef"
            ],
            [
             0.5,
             "#f7f7f7"
            ],
            [
             0.6,
             "#e6f5d0"
            ],
            [
             0.7,
             "#b8e186"
            ],
            [
             0.8,
             "#7fbc41"
            ],
            [
             0.9,
             "#4d9221"
            ],
            [
             1,
             "#276419"
            ]
           ],
           "sequential": [
            [
             0,
             "#0d0887"
            ],
            [
             0.1111111111111111,
             "#46039f"
            ],
            [
             0.2222222222222222,
             "#7201a8"
            ],
            [
             0.3333333333333333,
             "#9c179e"
            ],
            [
             0.4444444444444444,
             "#bd3786"
            ],
            [
             0.5555555555555556,
             "#d8576b"
            ],
            [
             0.6666666666666666,
             "#ed7953"
            ],
            [
             0.7777777777777778,
             "#fb9f3a"
            ],
            [
             0.8888888888888888,
             "#fdca26"
            ],
            [
             1,
             "#f0f921"
            ]
           ],
           "sequentialminus": [
            [
             0,
             "#0d0887"
            ],
            [
             0.1111111111111111,
             "#46039f"
            ],
            [
             0.2222222222222222,
             "#7201a8"
            ],
            [
             0.3333333333333333,
             "#9c179e"
            ],
            [
             0.4444444444444444,
             "#bd3786"
            ],
            [
             0.5555555555555556,
             "#d8576b"
            ],
            [
             0.6666666666666666,
             "#ed7953"
            ],
            [
             0.7777777777777778,
             "#fb9f3a"
            ],
            [
             0.8888888888888888,
             "#fdca26"
            ],
            [
             1,
             "#f0f921"
            ]
           ]
          },
          "colorway": [
           "#636efa",
           "#EF553B",
           "#00cc96",
           "#ab63fa",
           "#FFA15A",
           "#19d3f3",
           "#FF6692",
           "#B6E880",
           "#FF97FF",
           "#FECB52"
          ],
          "font": {
           "color": "#2a3f5f"
          },
          "geo": {
           "bgcolor": "white",
           "lakecolor": "white",
           "landcolor": "white",
           "showlakes": true,
           "showland": true,
           "subunitcolor": "#C8D4E3"
          },
          "hoverlabel": {
           "align": "left"
          },
          "hovermode": "closest",
          "mapbox": {
           "style": "light"
          },
          "paper_bgcolor": "white",
          "plot_bgcolor": "white",
          "polar": {
           "angularaxis": {
            "gridcolor": "#EBF0F8",
            "linecolor": "#EBF0F8",
            "ticks": ""
           },
           "bgcolor": "white",
           "radialaxis": {
            "gridcolor": "#EBF0F8",
            "linecolor": "#EBF0F8",
            "ticks": ""
           }
          },
          "scene": {
           "xaxis": {
            "backgroundcolor": "white",
            "gridcolor": "#DFE8F3",
            "gridwidth": 2,
            "linecolor": "#EBF0F8",
            "showbackground": true,
            "ticks": "",
            "zerolinecolor": "#EBF0F8"
           },
           "yaxis": {
            "backgroundcolor": "white",
            "gridcolor": "#DFE8F3",
            "gridwidth": 2,
            "linecolor": "#EBF0F8",
            "showbackground": true,
            "ticks": "",
            "zerolinecolor": "#EBF0F8"
           },
           "zaxis": {
            "backgroundcolor": "white",
            "gridcolor": "#DFE8F3",
            "gridwidth": 2,
            "linecolor": "#EBF0F8",
            "showbackground": true,
            "ticks": "",
            "zerolinecolor": "#EBF0F8"
           }
          },
          "shapedefaults": {
           "line": {
            "color": "#2a3f5f"
           }
          },
          "ternary": {
           "aaxis": {
            "gridcolor": "#DFE8F3",
            "linecolor": "#A2B1C6",
            "ticks": ""
           },
           "baxis": {
            "gridcolor": "#DFE8F3",
            "linecolor": "#A2B1C6",
            "ticks": ""
           },
           "bgcolor": "white",
           "caxis": {
            "gridcolor": "#DFE8F3",
            "linecolor": "#A2B1C6",
            "ticks": ""
           }
          },
          "title": {
           "x": 0.05
          },
          "xaxis": {
           "automargin": true,
           "gridcolor": "#EBF0F8",
           "linecolor": "#EBF0F8",
           "ticks": "",
           "title": {
            "standoff": 15
           },
           "zerolinecolor": "#EBF0F8",
           "zerolinewidth": 2
          },
          "yaxis": {
           "automargin": true,
           "gridcolor": "#EBF0F8",
           "linecolor": "#EBF0F8",
           "ticks": "",
           "title": {
            "standoff": 15
           },
           "zerolinecolor": "#EBF0F8",
           "zerolinewidth": 2
          }
         }
        },
        "title": {
         "font": {
          "color": "#2c3e50",
          "size": 22
         },
         "text": "<b>Red de Tráfico Global</b><br><sup>Flujos y Revalorización - Cocaína</sup>",
         "x": 0.05
        },
        "width": 1300
       }
      },
      "image/png": "[encoded data removed]",
      "text/html": [
       "<div>                            <div id=\"1d7f4082-f6fb-4e50-b2e8-8f0bde81a74d\" class=\"plotly-graph-div\" style=\"height:750px; width:1300px;\"></div>            <script type=\"text/javascript\">                require([\"plotly\"], function(Plotly) {                    window.PLOTLYENV=window.PLOTLYENV || {};                                    if (document.getElementById(\"1d7f4082-f6fb-4e50-b2e8-8f0bde81a74d\")) {                    Plotly.newPlot(                        \"1d7f4082-f6fb-4e50-b2e8-8f0bde81a74d\",                        [{\"hoverinfo\":\"text\",\"hovertext\":\"<b>Afganist\\u00e1n</b><br><br>Conexiones:<br>\",\"lat\":[34.5553],\"lon\":[69.2075],\"marker\":{\"color\":\"#2c3e50\",\"line\":{\"color\":\"white\",\"width\":0.5},\"opacity\":0.7,\"size\":10},\"mode\":\"markers+text\",\"showlegend\":false,\"text\":\"Afganist\\u00e1n\",\"textfont\":{\"color\":\"#2c3e50\",\"family\":\"Arial\",\"size\":10},\"textposition\":\"top center\",\"type\":\"scattergeo\"},{\"hoverinfo\":\"text\",\"hovertext\":\"<b>Alemania</b><br><br>Conexiones:<br>\\u2192 Austria (20.04%)<br>\\u2192 Moldavia (43.66%)<br>\\u2190 Argentina (800.81%)<br>\\u2190 Brasil (1774.37%)<br>\\u2190 Ecuador (2272.82%)<br>\\u2190 Paraguay (555.59%)<br>\\u2190 Turqu\\u00eda (180.0%)<br>\\u2190 Uruguay (519.31%)\",\"lat\":[52.52],\"lon\":[13.4049],\"marker\":{\"color\":\"#2c3e50\",\"line\":{\"color\":\"white\",\"width\":0.5},\"opacity\":0.7,\"size\":10},\"mode\":\"markers+text\",\"showlegend\":false,\"text\":\"Alemania\",\"textfont\":{\"color\":\"#2c3e50\",\"family\":\"Arial\",\"size\":10},\"textposition\":\"top center\",\"type\":\"scattergeo\"},{\"hoverinfo\":\"text\",\"hovertext\":\"<b>Angola</b><br><br>Conexiones:<br>\\u2190 Brasil (890.0%)\",\"lat\":[-8.8159],\"lon\":[13.2316],\"marker\":{\"color\":\"#2c3e50\",\"line\":{\"color\":\"white\",\"width\":0.5},\"opacity\":0.7,\"size\":10},\"mode\":\"markers+text\",\"showlegend\":false,\"text\":\"Angola\",\"textfont\":{\"color\":\"#2c3e50\",\"family\":\"Arial\",\"size\":10},\"textposition\":\"top center\",\"type\":\"scattergeo\"},{\"hoverinfo\":\"text\",\"hovertext\":\"<b>Argentina</b><br><br>Conexiones:<br>\\u2192 Alemania (800.81%)<br>\\u2192 Espa\\u00f1a (677.35%)\",\"lat\":[-34.6037],\"lon\":[-58.3816],\"marker\":{\"color\":\"#2c3e50\",\"line\":{\"color\":\"white\",\"width\":0.5},\"opacity\":0.7,\"size\":10},\"mode\":\"markers+text\",\"showlegend\":false,\"text\":\"Argentina\",\"textfont\":{\"color\":\"#2c3e50\",\"family\":\"Arial\",\"size\":10},\"textposition\":\"top center\",\"type\":\"scattergeo\"},{\"hoverinfo\":\"text\",\"hovertext\":\"<b>Australia</b><br><br>Conexiones:<br>\\u2190 Mexico (669.9%)\",\"lat\":[-33.8688],\"lon\":[151.2093],\"marker\":{\"color\":\"#2c3e50\",\"line\":{\"color\":\"white\",\"width\":0.5},\"opacity\":0.7,\"size\":10},\"mode\":\"markers+text\",\"showlegend\":false,\"text\":\"Australia\",\"textfont\":{\"color\":\"#2c3e50\",\"family\":\"Arial\",\"size\":10},\"textposition\":\"top center\",\"type\":\"scattergeo\"},{\"hoverinfo\":\"text\",\"hovertext\":\"<b>Austria</b><br><br>Conexiones:<br>\\u2190 Alemania (20.04%)\",\"lat\":[48.2082],\"lon\":[16.3738],\"marker\":{\"color\":\"#2c3e50\",\"line\":{\"color\":\"white\",\"width\":0.5},\"opacity\":0.7,\"size\":10},\"mode\":\"markers+text\",\"showlegend\":false,\"text\":\"Austria\",\"textfont\":{\"color\":\"#2c3e50\",\"family\":\"Arial\",\"size\":10},\"textposition\":\"top center\",\"type\":\"scattergeo\"},{\"hoverinfo\":\"text\",\"hovertext\":\"<b>B\\u00e9lgica</b><br><br>Conexiones:<br>\\u2190 Brasil (1339.1%)<br>\\u2190 Ecuador (1721.8%)\",\"lat\":[50.8503],\"lon\":[4.3517],\"marker\":{\"color\":\"#2c3e50\",\"line\":{\"color\":\"white\",\"width\":0.5},\"opacity\":0.7,\"size\":10},\"mode\":\"markers+text\",\"showlegend\":false,\"text\":\"B\\u00e9lgica\",\"textfont\":{\"color\":\"#2c3e50\",\"family\":\"Arial\",\"size\":10},\"textposition\":\"top center\",\"type\":\"scattergeo\"},{\"hoverinfo\":\"text\",\"hovertext\":\"<b>Bolivia</b><br><br>Conexiones:<br>\",\"lat\":[-16.4897],\"lon\":[-68.1193],\"marker\":{\"color\":\"#2c3e50\",\"line\":{\"color\":\"white\",\"width\":0.5},\"opacity\":0.7,\"size\":10},\"mode\":\"markers+text\",\"showlegend\":false,\"text\":\"Bolivia\",\"textfont\":{\"color\":\"#2c3e50\",\"family\":\"Arial\",\"size\":10},\"textposition\":\"top center\",\"type\":\"scattergeo\"},{\"hoverinfo\":\"text\",\"hovertext\":\"<b>Brasil</b><br><br>Conexiones:<br>\\u2192 Alemania (1774.37%)<br>\\u2192 Espa\\u00f1a (1517.49%)<br>\\u2192 Pa\\u00edses Bajos (1485.13%)<br>\\u2192 B\\u00e9lgica (1339.1%)<br>\\u2192 Portugal (1141.82%)<br>\\u2192 Angola (890.0%)\",\"lat\":[-15.7801],\"lon\":[-47.9297],\"marker\":{\"color\":\"#2c3e50\",\"line\":{\"color\":\"white\",\"width\":0.5},\"opacity\":0.7,\"size\":10},\"mode\":\"markers+text\",\"showlegend\":false,\"text\":\"Brasil\",\"textfont\":{\"color\":\"#2c3e50\",\"family\":\"Arial\",\"size\":10},\"textposition\":\"top center\",\"type\":\"scattergeo\"},{\"hoverinfo\":\"text\",\"hovertext\":\"<b>Cabo Verde</b><br><br>Conexiones:<br>\\u2192 Portugal (750.0%)\",\"lat\":[15.1201],\"lon\":[-23.5133],\"marker\":{\"color\":\"#2c3e50\",\"line\":{\"color\":\"white\",\"width\":0.5},\"opacity\":0.7,\"size\":10},\"mode\":\"markers+text\",\"showlegend\":false,\"text\":\"Cabo Verde\",\"textfont\":{\"color\":\"#2c3e50\",\"family\":\"Arial\",\"size\":10},\"textposition\":\"top center\",\"type\":\"scattergeo\"},{\"hoverinfo\":\"text\",\"hovertext\":\"<b>Chile</b><br><br>Conexiones:<br>\",\"lat\":[-33.4489],\"lon\":[-70.6693],\"marker\":{\"color\":\"#2c3e50\",\"line\":{\"color\":\"white\",\"width\":0.5},\"opacity\":0.7,\"size\":10},\"mode\":\"markers+text\",\"showlegend\":false,\"text\":\"Chile\",\"textfont\":{\"color\":\"#2c3e50\",\"family\":\"Arial\",\"size\":10},\"textposition\":\"top center\",\"type\":\"scattergeo\"},{\"hoverinfo\":\"text\",\"hovertext\":\"<b>Colombia</b><br><br>Conexiones:<br>\\u2192 Costa Rica (500.81%)<br>\\u2192 Mexico (739.6%)<br>\\u2192 Nigeria (2500.0%)\",\"lat\":[4.5709],\"lon\":[-74.2973],\"marker\":{\"color\":\"#2c3e50\",\"line\":{\"color\":\"white\",\"width\":0.5},\"opacity\":0.7,\"size\":10},\"mode\":\"markers+text\",\"showlegend\":false,\"text\":\"Colombia\",\"textfont\":{\"color\":\"#2c3e50\",\"family\":\"Arial\",\"size\":10},\"textposition\":\"top center\",\"type\":\"scattergeo\"},{\"hoverinfo\":\"text\",\"hovertext\":\"<b>Costa Rica</b><br><br>Conexiones:<br>\\u2190 Colombia (500.81%)\",\"lat\":[9.7489],\"lon\":[-84.0907],\"marker\":{\"color\":\"#2c3e50\",\"line\":{\"color\":\"white\",\"width\":0.5},\"opacity\":0.7,\"size\":10},\"mode\":\"markers+text\",\"showlegend\":false,\"text\":\"Costa Rica\",\"textfont\":{\"color\":\"#2c3e50\",\"family\":\"Arial\",\"size\":10},\"textposition\":\"top center\",\"type\":\"scattergeo\"},{\"hoverinfo\":\"text\",\"hovertext\":\"<b>Dinamarca</b><br><br>Conexiones:<br>\",\"lat\":[55.6761],\"lon\":[12.5683],\"marker\":{\"color\":\"#2c3e50\",\"line\":{\"color\":\"white\",\"width\":0.5},\"opacity\":0.7,\"size\":10},\"mode\":\"markers+text\",\"showlegend\":false,\"text\":\"Dinamarca\",\"textfont\":{\"color\":\"#2c3e50\",\"family\":\"Arial\",\"size\":10},\"textposition\":\"top center\",\"type\":\"scattergeo\"},{\"hoverinfo\":\"text\",\"hovertext\":\"<b>Ecuador</b><br><br>Conexiones:<br>\\u2192 Alemania (2272.82%)<br>\\u2192 Espa\\u00f1a (1947.63%)<br>\\u2192 Pa\\u00edses Bajos (1906.66%)<br>\\u2192 B\\u00e9lgica (1721.8%)<br>\\u2192 Portugal (1472.06%)\",\"lat\":[-0.1807],\"lon\":[-78.4678],\"marker\":{\"color\":\"#2c3e50\",\"line\":{\"color\":\"white\",\"width\":0.5},\"opacity\":0.7,\"size\":10},\"mode\":\"markers+text\",\"showlegend\":false,\"text\":\"Ecuador\",\"textfont\":{\"color\":\"#2c3e50\",\"family\":\"Arial\",\"size\":10},\"textposition\":\"top center\",\"type\":\"scattergeo\"},{\"hoverinfo\":\"text\",\"hovertext\":\"<b>Espa\\u00f1a</b><br><br>Conexiones:<br>\\u2190 Argentina (677.35%)<br>\\u2190 Brasil (1517.49%)<br>\\u2190 Ecuador (1947.63%)<br>\\u2192 Finlandia (121.47%)<br>\\u2192 Moldavia (66.47%)<br>\\u2190 Nigeria (600.0%)\",\"lat\":[40.4168],\"lon\":[-3.7038],\"marker\":{\"color\":\"#2c3e50\",\"line\":{\"color\":\"white\",\"width\":0.5},\"opacity\":0.7,\"size\":10},\"mode\":\"markers+text\",\"showlegend\":false,\"text\":\"Espa\\u00f1a\",\"textfont\":{\"color\":\"#2c3e50\",\"family\":\"Arial\",\"size\":10},\"textposition\":\"top center\",\"type\":\"scattergeo\"},{\"hoverinfo\":\"text\",\"hovertext\":\"<b>Estados Unidos</b><br><br>Conexiones:<br>\\u2190 Mexico (198.97%)\",\"lat\":[37.0902],\"lon\":[-95.7129],\"marker\":{\"color\":\"#2c3e50\",\"line\":{\"color\":\"white\",\"width\":0.5},\"opacity\":0.7,\"size\":10},\"mode\":\"markers+text\",\"showlegend\":false,\"text\":\"Estados Unidos\",\"textfont\":{\"color\":\"#2c3e50\",\"family\":\"Arial\",\"size\":10},\"textposition\":\"top center\",\"type\":\"scattergeo\"},{\"hoverinfo\":\"text\",\"hovertext\":\"<b>Finlandia</b><br><br>Conexiones:<br>\\u2190 Espa\\u00f1a (121.47%)<br>\\u2190 Portugal (188.46%)\",\"lat\":[60.1699],\"lon\":[24.9384],\"marker\":{\"color\":\"#2c3e50\",\"line\":{\"color\":\"white\",\"width\":0.5},\"opacity\":0.7,\"size\":10},\"mode\":\"markers+text\",\"showlegend\":false,\"text\":\"Finlandia\",\"textfont\":{\"color\":\"#2c3e50\",\"family\":\"Arial\",\"size\":10},\"textposition\":\"top center\",\"type\":\"scattergeo\"},{\"hoverinfo\":\"text\",\"hovertext\":\"<b>Francia</b><br><br>Conexiones:<br>\",\"lat\":[48.8566],\"lon\":[2.3522],\"marker\":{\"color\":\"#2c3e50\",\"line\":{\"color\":\"white\",\"width\":0.5},\"opacity\":0.7,\"size\":10},\"mode\":\"markers+text\",\"showlegend\":false,\"text\":\"Francia\",\"textfont\":{\"color\":\"#2c3e50\",\"family\":\"Arial\",\"size\":10},\"textposition\":\"top center\",\"type\":\"scattergeo\"},{\"hoverinfo\":\"text\",\"hovertext\":\"<b>Ghana</b><br><br>Conexiones:<br>\\u2190 Panam\\u00e1 (1100.0%)\",\"lat\":[5.6037],\"lon\":[-0.1866],\"marker\":{\"color\":\"#2c3e50\",\"line\":{\"color\":\"white\",\"width\":0.5},\"opacity\":0.7,\"size\":10},\"mode\":\"markers+text\",\"showlegend\":false,\"text\":\"Ghana\",\"textfont\":{\"color\":\"#2c3e50\",\"family\":\"Arial\",\"size\":10},\"textposition\":\"top center\",\"type\":\"scattergeo\"},{\"hoverinfo\":\"text\",\"hovertext\":\"<b>Guatemala</b><br><br>Conexiones:<br>\",\"lat\":[14.6349],\"lon\":[-90.5167],\"marker\":{\"color\":\"#2c3e50\",\"line\":{\"color\":\"white\",\"width\":0.5},\"opacity\":0.7,\"size\":10},\"mode\":\"markers+text\",\"showlegend\":false,\"text\":\"Guatemala\",\"textfont\":{\"color\":\"#2c3e50\",\"family\":\"Arial\",\"size\":10},\"textposition\":\"top center\",\"type\":\"scattergeo\"},{\"hoverinfo\":\"text\",\"hovertext\":\"<b>Honduras</b><br><br>Conexiones:<br>\",\"lat\":[14.081],\"lon\":[-87.2042],\"marker\":{\"color\":\"#2c3e50\",\"line\":{\"color\":\"white\",\"width\":0.5},\"opacity\":0.7,\"size\":10},\"mode\":\"markers+text\",\"showlegend\":false,\"text\":\"Honduras\",\"textfont\":{\"color\":\"#2c3e50\",\"family\":\"Arial\",\"size\":10},\"textposition\":\"top center\",\"type\":\"scattergeo\"},{\"hoverinfo\":\"text\",\"hovertext\":\"<b>Mexico</b><br><br>Conexiones:<br>\\u2190 Colombia (739.6%)<br>\\u2192 Estados Unidos (198.97%)<br>\\u2192 Australia (669.9%)\",\"lat\":[19.4326],\"lon\":[-99.1332],\"marker\":{\"color\":\"#2c3e50\",\"line\":{\"color\":\"white\",\"width\":0.5},\"opacity\":0.7,\"size\":10},\"mode\":\"markers+text\",\"showlegend\":false,\"text\":\"Mexico\",\"textfont\":{\"color\":\"#2c3e50\",\"family\":\"Arial\",\"size\":10},\"textposition\":\"top center\",\"type\":\"scattergeo\"},{\"hoverinfo\":\"text\",\"hovertext\":\"<b>Moldavia</b><br><br>Conexiones:<br>\\u2190 Alemania (43.66%)<br>\\u2190 Espa\\u00f1a (66.47%)<br>\\u2190 Portugal (116.83%)\",\"lat\":[47.0105],\"lon\":[28.8614],\"marker\":{\"color\":\"#2c3e50\",\"line\":{\"color\":\"white\",\"width\":0.5},\"opacity\":0.7,\"size\":10},\"mode\":\"markers+text\",\"showlegend\":false,\"text\":\"Moldavia\",\"textfont\":{\"color\":\"#2c3e50\",\"family\":\"Arial\",\"size\":10},\"textposition\":\"top center\",\"type\":\"scattergeo\"},{\"hoverinfo\":\"text\",\"hovertext\":\"<b>Mozambique</b><br><br>Conexiones:<br>\\u2190 Paraguay (2100.0%)\",\"lat\":[-25.8913],\"lon\":[32.5732],\"marker\":{\"color\":\"#2c3e50\",\"line\":{\"color\":\"white\",\"width\":0.5},\"opacity\":0.7,\"size\":10},\"mode\":\"markers+text\",\"showlegend\":false,\"text\":\"Mozambique\",\"textfont\":{\"color\":\"#2c3e50\",\"family\":\"Arial\",\"size\":10},\"textposition\":\"top center\",\"type\":\"scattergeo\"},{\"hoverinfo\":\"text\",\"hovertext\":\"<b>Nigeria</b><br><br>Conexiones:<br>\\u2190 Colombia (2500.0%)<br>\\u2192 Espa\\u00f1a (600.0%)\",\"lat\":[9.0579],\"lon\":[7.4893],\"marker\":{\"color\":\"#2c3e50\",\"line\":{\"color\":\"white\",\"width\":0.5},\"opacity\":0.7,\"size\":10},\"mode\":\"markers+text\",\"showlegend\":false,\"text\":\"Nigeria\",\"textfont\":{\"color\":\"#2c3e50\",\"family\":\"Arial\",\"size\":10},\"textposition\":\"top center\",\"type\":\"scattergeo\"},{\"hoverinfo\":\"text\",\"hovertext\":\"<b>Noruega</b><br><br>Conexiones:<br>\",\"lat\":[59.9139],\"lon\":[10.7522],\"marker\":{\"color\":\"#2c3e50\",\"line\":{\"color\":\"white\",\"width\":0.5},\"opacity\":0.7,\"size\":10},\"mode\":\"markers+text\",\"showlegend\":false,\"text\":\"Noruega\",\"textfont\":{\"color\":\"#2c3e50\",\"family\":\"Arial\",\"size\":10},\"textposition\":\"top center\",\"type\":\"scattergeo\"},{\"hoverinfo\":\"text\",\"hovertext\":\"<b>Pa\\u00edses Bajos</b><br><br>Conexiones:<br>\\u2190 Brasil (1485.13%)<br>\\u2190 Ecuador (1906.66%)\",\"lat\":[52.3676],\"lon\":[4.8952],\"marker\":{\"color\":\"#2c3e50\",\"line\":{\"color\":\"white\",\"width\":0.5},\"opacity\":0.7,\"size\":10},\"mode\":\"markers+text\",\"showlegend\":false,\"text\":\"Pa\\u00edses Bajos\",\"textfont\":{\"color\":\"#2c3e50\",\"family\":\"Arial\",\"size\":10},\"textposition\":\"top center\",\"type\":\"scattergeo\"},{\"hoverinfo\":\"text\",\"hovertext\":\"<b>Panam\\u00e1</b><br><br>Conexiones:<br>\\u2192 Ghana (1100.0%)\",\"lat\":[8.9943],\"lon\":[-79.5167],\"marker\":{\"color\":\"#2c3e50\",\"line\":{\"color\":\"white\",\"width\":0.5},\"opacity\":0.7,\"size\":10},\"mode\":\"markers+text\",\"showlegend\":false,\"text\":\"Panam\\u00e1\",\"textfont\":{\"color\":\"#2c3e50\",\"family\":\"Arial\",\"size\":10},\"textposition\":\"top center\",\"type\":\"scattergeo\"},{\"hoverinfo\":\"text\",\"hovertext\":\"<b>Paraguay</b><br><br>Conexiones:<br>\\u2192 Alemania (555.59%)<br>\\u2192 Mozambique (2100.0%)\",\"lat\":[-25.2637],\"lon\":[-57.5759],\"marker\":{\"color\":\"#2c3e50\",\"line\":{\"color\":\"white\",\"width\":0.5},\"opacity\":0.7,\"size\":10},\"mode\":\"markers+text\",\"showlegend\":false,\"text\":\"Paraguay\",\"textfont\":{\"color\":\"#2c3e50\",\"family\":\"Arial\",\"size\":10},\"textposition\":\"top center\",\"type\":\"scattergeo\"},{\"hoverinfo\":\"text\",\"hovertext\":\"<b>Per\\u00fa</b><br><br>Conexiones:<br>\\u2192 Sud\\u00e1frica (1800.0%)\",\"lat\":[-12.0464],\"lon\":[-77.0428],\"marker\":{\"color\":\"#2c3e50\",\"line\":{\"color\":\"white\",\"width\":0.5},\"opacity\":0.7,\"size\":10},\"mode\":\"markers+text\",\"showlegend\":false,\"text\":\"Per\\u00fa\",\"textfont\":{\"color\":\"#2c3e50\",\"family\":\"Arial\",\"size\":10},\"textposition\":\"top center\",\"type\":\"scattergeo\"},{\"hoverinfo\":\"text\",\"hovertext\":\"<b>Polonia</b><br><br>Conexiones:<br>\\u2192 Ucrania (200.0%)\",\"lat\":[52.237],\"lon\":[21.0175],\"marker\":{\"color\":\"#2c3e50\",\"line\":{\"color\":\"white\",\"width\":0.5},\"opacity\":0.7,\"size\":10},\"mode\":\"markers+text\",\"showlegend\":false,\"text\":\"Polonia\",\"textfont\":{\"color\":\"#2c3e50\",\"family\":\"Arial\",\"size\":10},\"textposition\":\"top center\",\"type\":\"scattergeo\"},{\"hoverinfo\":\"text\",\"hovertext\":\"<b>Portugal</b><br><br>Conexiones:<br>\\u2190 Brasil (1141.82%)<br>\\u2190 Cabo Verde (750.0%)<br>\\u2190 Ecuador (1472.06%)<br>\\u2192 Finlandia (188.46%)<br>\\u2192 Moldavia (116.83%)\",\"lat\":[38.7223],\"lon\":[-9.1393],\"marker\":{\"color\":\"#2c3e50\",\"line\":{\"color\":\"white\",\"width\":0.5},\"opacity\":0.7,\"size\":10},\"mode\":\"markers+text\",\"showlegend\":false,\"text\":\"Portugal\",\"textfont\":{\"color\":\"#2c3e50\",\"family\":\"Arial\",\"size\":10},\"textposition\":\"top center\",\"type\":\"scattergeo\"},{\"hoverinfo\":\"text\",\"hovertext\":\"<b>Reino Unido</b><br><br>Conexiones:<br>\",\"lat\":[51.5074],\"lon\":[-0.1276],\"marker\":{\"color\":\"#2c3e50\",\"line\":{\"color\":\"white\",\"width\":0.5},\"opacity\":0.7,\"size\":10},\"mode\":\"markers+text\",\"showlegend\":false,\"text\":\"Reino Unido\",\"textfont\":{\"color\":\"#2c3e50\",\"family\":\"Arial\",\"size\":10},\"textposition\":\"top center\",\"type\":\"scattergeo\"},{\"hoverinfo\":\"text\",\"hovertext\":\"<b>Rep\\u00fablica Dominicana</b><br><br>Conexiones:<br>\",\"lat\":[18.4861],\"lon\":[-69.9312],\"marker\":{\"color\":\"#2c3e50\",\"line\":{\"color\":\"white\",\"width\":0.5},\"opacity\":0.7,\"size\":10},\"mode\":\"markers+text\",\"showlegend\":false,\"text\":\"Rep\\u00fablica Dominicana\",\"textfont\":{\"color\":\"#2c3e50\",\"family\":\"Arial\",\"size\":10},\"textposition\":\"top center\",\"type\":\"scattergeo\"},{\"hoverinfo\":\"text\",\"hovertext\":\"<b>Sud\\u00e1frica</b><br><br>Conexiones:<br>\\u2190 Per\\u00fa (1800.0%)\",\"lat\":[-25.7313],\"lon\":[28.1871],\"marker\":{\"color\":\"#2c3e50\",\"line\":{\"color\":\"white\",\"width\":0.5},\"opacity\":0.7,\"size\":10},\"mode\":\"markers+text\",\"showlegend\":false,\"text\":\"Sud\\u00e1frica\",\"textfont\":{\"color\":\"#2c3e50\",\"family\":\"Arial\",\"size\":10},\"textposition\":\"top center\",\"type\":\"scattergeo\"},{\"hoverinfo\":\"text\",\"hovertext\":\"<b>Turqu\\u00eda</b><br><br>Conexiones:<br>\\u2192 Alemania (180.0%)<br>\\u2190 Venezuela (1500.0%)\",\"lat\":[39.9334],\"lon\":[32.8597],\"marker\":{\"color\":\"#2c3e50\",\"line\":{\"color\":\"white\",\"width\":0.5},\"opacity\":0.7,\"size\":10},\"mode\":\"markers+text\",\"showlegend\":false,\"text\":\"Turqu\\u00eda\",\"textfont\":{\"color\":\"#2c3e50\",\"family\":\"Arial\",\"size\":10},\"textposition\":\"top center\",\"type\":\"scattergeo\"},{\"hoverinfo\":\"text\",\"hovertext\":\"<b>Ucrania</b><br><br>Conexiones:<br>\\u2190 Polonia (200.0%)\",\"lat\":[50.4501],\"lon\":[30.5234],\"marker\":{\"color\":\"#2c3e50\",\"line\":{\"color\":\"white\",\"width\":0.5},\"opacity\":0.7,\"size\":10},\"mode\":\"markers+text\",\"showlegend\":false,\"text\":\"Ucrania\",\"textfont\":{\"color\":\"#2c3e50\",\"family\":\"Arial\",\"size\":10},\"textposition\":\"top center\",\"type\":\"scattergeo\"},{\"hoverinfo\":\"text\",\"hovertext\":\"<b>Uruguay</b><br><br>Conexiones:<br>\\u2192 Alemania (519.31%)\",\"lat\":[-34.9011],\"lon\":[-56.1645],\"marker\":{\"color\":\"#2c3e50\",\"line\":{\"color\":\"white\",\"width\":0.5},\"opacity\":0.7,\"size\":10},\"mode\":\"markers+text\",\"showlegend\":false,\"text\":\"Uruguay\",\"textfont\":{\"color\":\"#2c3e50\",\"family\":\"Arial\",\"size\":10},\"textposition\":\"top center\",\"type\":\"scattergeo\"},{\"hoverinfo\":\"text\",\"hovertext\":\"<b>Venezuela</b><br><br>Conexiones:<br>\\u2192 Turqu\\u00eda (1500.0%)\",\"lat\":[10.4806],\"lon\":[-66.9036],\"marker\":{\"color\":\"#2c3e50\",\"line\":{\"color\":\"white\",\"width\":0.5},\"opacity\":0.7,\"size\":10},\"mode\":\"markers+text\",\"showlegend\":false,\"text\":\"Venezuela\",\"textfont\":{\"color\":\"#2c3e50\",\"family\":\"Arial\",\"size\":10},\"textposition\":\"top center\",\"type\":\"scattergeo\"},{\"hoverinfo\":\"text\",\"hovertext\":\"Colombia \\u2192 Costa Rica<br>\\u0394 Precio: 500.81%\",\"lat\":[4.5709,9.7489],\"legendgroup\":\"Am\\u00e9rica\",\"line\":{\"color\":\"#1f77b4\",\"width\":1.43820875},\"lon\":[-74.2973,-84.0907],\"mode\":\"lines\",\"opacity\":0.7,\"showlegend\":false,\"visible\":\"legendonly\",\"type\":\"scattergeo\"},{\"hoverinfo\":\"text\",\"hovertext\":\"Colombia \\u2192 Mexico<br>\\u0394 Precio: 739.6%\",\"lat\":[4.5709,19.4326],\"legendgroup\":\"Am\\u00e9rica\",\"line\":{\"color\":\"#1f77b4\",\"width\":1.64715},\"lon\":[-74.2973,-99.1332],\"mode\":\"lines\",\"opacity\":0.7,\"showlegend\":false,\"visible\":\"legendonly\",\"type\":\"scattergeo\"},{\"hoverinfo\":\"text\",\"hovertext\":\"Mexico \\u2192 Estados Unidos<br>\\u0394 Precio: 198.97%\",\"lat\":[19.4326,37.0902],\"legendgroup\":\"Am\\u00e9rica\",\"line\":{\"color\":\"#1f77b4\",\"width\":1.17409875},\"lon\":[-99.1332,-95.7129],\"mode\":\"lines\",\"opacity\":0.7,\"showlegend\":false,\"visible\":\"legendonly\",\"type\":\"scattergeo\"},{\"lat\":[null],\"legendgroup\":\"Am\\u00e9rica\",\"line\":{\"color\":\"#1f77b4\",\"width\":2},\"lon\":[null],\"mode\":\"lines\",\"name\":\"Am\\u00e9rica\",\"showlegend\":true,\"type\":\"scattergeo\"},{\"hoverinfo\":\"text\",\"hovertext\":\"Ecuador \\u2192 Alemania<br>\\u0394 Precio: 2272.82%\",\"lat\":[-0.1807,52.52],\"legendgroup\":\"Am\\u00e9rica-Europa\",\"line\":{\"color\":\"#ff7f0e\",\"width\":2.9887175000000004},\"lon\":[-78.4678,13.4049],\"mode\":\"lines\",\"opacity\":0.7,\"showlegend\":false,\"visible\":\"legendonly\",\"type\":\"scattergeo\"},{\"hoverinfo\":\"text\",\"hovertext\":\"Brasil \\u2192 Alemania<br>\\u0394 Precio: 1774.37%\",\"lat\":[-15.7801,52.52],\"legendgroup\":\"Am\\u00e9rica-Europa\",\"line\":{\"color\":\"#ff7f0e\",\"width\":2.5525737499999996},\"lon\":[-47.9297,13.4049],\"mode\":\"lines\",\"opacity\":0.7,\"showlegend\":false,\"visible\":\"legendonly\",\"type\":\"scattergeo\"},{\"hoverinfo\":\"text\",\"hovertext\":\"Brasil \\u2192 Espa\\u00f1a<br>\\u0394 Precio: 1517.49%\",\"lat\":[-15.7801,40.4168],\"legendgroup\":\"Am\\u00e9rica-Europa\",\"line\":{\"color\":\"#ff7f0e\",\"width\":2.32780375},\"lon\":[-47.9297,-3.7038],\"mode\":\"lines\",\"opacity\":0.7,\"showlegend\":false,\"visible\":\"legendonly\",\"type\":\"scattergeo\"},{\"hoverinfo\":\"text\",\"hovertext\":\"Argentina \\u2192 Alemania<br>\\u0394 Precio: 800.81%\",\"lat\":[-34.6037,52.52],\"legendgroup\":\"Am\\u00e9rica-Europa\",\"line\":{\"color\":\"#ff7f0e\",\"width\":1.70070875},\"lon\":[-58.3816,13.4049],\"mode\":\"lines\",\"opacity\":0.7,\"showlegend\":false,\"visible\":\"legendonly\",\"type\":\"scattergeo\"},{\"hoverinfo\":\"text\",\"hovertext\":\"Argentina \\u2192 Espa\\u00f1a<br>\\u0394 Precio: 677.35%\",\"lat\":[-34.6037,40.4168],\"legendgroup\":\"Am\\u00e9rica-Europa\",\"line\":{\"color\":\"#ff7f0e\",\"width\":1.59268125},\"lon\":[-58.3816,-3.7038],\"mode\":\"lines\",\"opacity\":0.7,\"showlegend\":false,\"visible\":\"legendonly\",\"type\":\"scattergeo\"},{\"hoverinfo\":\"text\",\"hovertext\":\"Paraguay \\u2192 Alemania<br>\\u0394 Precio: 555.59%\",\"lat\":[-25.2637,52.52],\"legendgroup\":\"Am\\u00e9rica-Europa\",\"line\":{\"color\":\"#ff7f0e\",\"width\":1.48614125},\"lon\":[-57.5759,13.4049],\"mode\":\"lines\",\"opacity\":0.7,\"showlegend\":false,\"visible\":\"legendonly\",\"type\":\"scattergeo\"},{\"hoverinfo\":\"text\",\"hovertext\":\"Uruguay \\u2192 Alemania<br>\\u0394 Precio: 519.31%\",\"lat\":[-34.9011,52.52],\"legendgroup\":\"Am\\u00e9rica-Europa\",\"line\":{\"color\":\"#ff7f0e\",\"width\":1.4543962499999998},\"lon\":[-56.1645,13.4049],\"mode\":\"lines\",\"opacity\":0.7,\"showlegend\":false,\"visible\":\"legendonly\",\"type\":\"scattergeo\"},{\"hoverinfo\":\"text\",\"hovertext\":\"Ecuador \\u2192 Espa\\u00f1a<br>\\u0394 Precio: 1947.63%\",\"lat\":[-0.1807,40.4168],\"legendgroup\":\"Am\\u00e9rica-Europa\",\"line\":{\"color\":\"#ff7f0e\",\"width\":2.70417625},\"lon\":[-78.4678,-3.7038],\"mode\":\"lines\",\"opacity\":0.7,\"showlegend\":false,\"visible\":\"legendonly\",\"type\":\"scattergeo\"},{\"hoverinfo\":\"text\",\"hovertext\":\"Ecuador \\u2192 Pa\\u00edses Bajos<br>\\u0394 Precio: 1906.66%\",\"lat\":[-0.1807,52.3676],\"legendgroup\":\"Am\\u00e9rica-Europa\",\"line\":{\"color\":\"#ff7f0e\",\"width\":2.6683275},\"lon\":[-78.4678,4.8952],\"mode\":\"lines\",\"opacity\":0.7,\"showlegend\":false,\"visible\":\"legendonly\",\"type\":\"scattergeo\"},{\"hoverinfo\":\"text\",\"hovertext\":\"Brasil \\u2192 Pa\\u00edses Bajos<br>\\u0394 Precio: 1485.13%\",\"lat\":[-15.7801,52.3676],\"legendgroup\":\"Am\\u00e9rica-Europa\",\"line\":{\"color\":\"#ff7f0e\",\"width\":2.29948875},\"lon\":[-47.9297,4.8952],\"mode\":\"lines\",\"opacity\":0.7,\"showlegend\":false,\"visible\":\"legendonly\",\"type\":\"scattergeo\"},{\"hoverinfo\":\"text\",\"hovertext\":\"Brasil \\u2192 B\\u00e9lgica<br>\\u0394 Precio: 1339.1%\",\"lat\":[-15.7801,50.8503],\"legendgroup\":\"Am\\u00e9rica-Europa\",\"line\":{\"color\":\"#ff7f0e\",\"width\":2.1717125},\"lon\":[-47.9297,4.3517],\"mode\":\"lines\",\"opacity\":0.7,\"showlegend\":false,\"visible\":\"legendonly\",\"type\":\"scattergeo\"},{\"hoverinfo\":\"text\",\"hovertext\":\"Ecuador \\u2192 B\\u00e9lgica<br>\\u0394 Precio: 1721.8%\",\"lat\":[-0.1807,50.8503],\"legendgroup\":\"Am\\u00e9rica-Europa\",\"line\":{\"color\":\"#ff7f0e\",\"width\":2.5065749999999998},\"lon\":[-78.4678,4.3517],\"mode\":\"lines\",\"opacity\":0.7,\"showlegend\":false,\"visible\":\"legendonly\",\"type\":\"scattergeo\"},{\"hoverinfo\":\"text\",\"hovertext\":\"Ecuador \\u2192 Portugal<br>\\u0394 Precio: 1472.06%\",\"lat\":[-0.1807,38.7223],\"legendgroup\":\"Am\\u00e9rica-Europa\",\"line\":{\"color\":\"#ff7f0e\",\"width\":2.2880525},\"lon\":[-78.4678,-9.1393],\"mode\":\"lines\",\"opacity\":0.7,\"showlegend\":false,\"visible\":\"legendonly\",\"type\":\"scattergeo\"},{\"hoverinfo\":\"text\",\"hovertext\":\"Brasil \\u2192 Portugal<br>\\u0394 Precio: 1141.82%\",\"lat\":[-15.7801,38.7223],\"legendgroup\":\"Am\\u00e9rica-Europa\",\"line\":{\"color\":\"#ff7f0e\",\"width\":1.9990924999999997},\"lon\":[-47.9297,-9.1393],\"mode\":\"lines\",\"opacity\":0.7,\"showlegend\":false,\"visible\":\"legendonly\",\"type\":\"scattergeo\"},{\"lat\":[null],\"legendgroup\":\"Am\\u00e9rica-Europa\",\"line\":{\"color\":\"#ff7f0e\",\"width\":2},\"lon\":[null],\"mode\":\"lines\",\"name\":\"Am\\u00e9rica-Europa\",\"showlegend\":true,\"type\":\"scattergeo\"},{\"hoverinfo\":\"text\",\"hovertext\":\"Espa\\u00f1a \\u2192 Finlandia<br>\\u0394 Precio: 121.47%\",\"lat\":[40.4168,60.1699],\"legendgroup\":\"Europa\",\"line\":{\"color\":\"#2ca02c\",\"width\":1.10628625},\"lon\":[-3.7038,24.9384],\"mode\":\"lines\",\"opacity\":0.7,\"showlegend\":false,\"visible\":\"legendonly\",\"type\":\"scattergeo\"},{\"hoverinfo\":\"text\",\"hovertext\":\"Espa\\u00f1a \\u2192 Moldavia<br>\\u0394 Precio: 66.47%\",\"lat\":[40.4168,47.0105],\"legendgroup\":\"Europa\",\"line\":{\"color\":\"#2ca02c\",\"width\":1.05816125},\"lon\":[-3.7038,28.8614],\"mode\":\"lines\",\"opacity\":0.7,\"showlegend\":false,\"visible\":\"legendonly\",\"type\":\"scattergeo\"},{\"hoverinfo\":\"text\",\"hovertext\":\"Portugal \\u2192 Finlandia<br>\\u0394 Precio: 188.46%\",\"lat\":[38.7223,60.1699],\"legendgroup\":\"Europa\",\"line\":{\"color\":\"#2ca02c\",\"width\":1.1649025},\"lon\":[-9.1393,24.9384],\"mode\":\"lines\",\"opacity\":0.7,\"showlegend\":false,\"visible\":\"legendonly\",\"type\":\"scattergeo\"},{\"hoverinfo\":\"text\",\"hovertext\":\"Portugal \\u2192 Moldavia<br>\\u0394 Precio: 116.83%\",\"lat\":[38.7223,47.0105],\"legendgroup\":\"Europa\",\"line\":{\"color\":\"#2ca02c\",\"width\":1.10222625},\"lon\":[-9.1393,28.8614],\"mode\":\"lines\",\"opacity\":0.7,\"showlegend\":false,\"visible\":\"legendonly\",\"type\":\"scattergeo\"},{\"hoverinfo\":\"text\",\"hovertext\":\"Alemania \\u2192 Austria<br>\\u0394 Precio: 20.04%\",\"lat\":[52.52,48.2082],\"legendgroup\":\"Europa\",\"line\":{\"color\":\"#2ca02c\",\"width\":1.017535},\"lon\":[13.4049,16.3738],\"mode\":\"lines\",\"opacity\":0.7,\"showlegend\":false,\"visible\":\"legendonly\",\"type\":\"scattergeo\"},{\"hoverinfo\":\"text\",\"hovertext\":\"Alemania \\u2192 Moldavia<br>\\u0394 Precio: 43.66%\",\"lat\":[52.52,47.0105],\"legendgroup\":\"Europa\",\"line\":{\"color\":\"#2ca02c\",\"width\":1.0382025},\"lon\":[13.4049,28.8614],\"mode\":\"lines\",\"opacity\":0.7,\"showlegend\":false,\"visible\":\"legendonly\",\"type\":\"scattergeo\"},{\"lat\":[null],\"legendgroup\":\"Europa\",\"line\":{\"color\":\"#2ca02c\",\"width\":2},\"lon\":[null],\"mode\":\"lines\",\"name\":\"Europa\",\"showlegend\":true,\"type\":\"scattergeo\"},{\"hoverinfo\":\"text\",\"hovertext\":\"Colombia \\u2192 Nigeria<br>\\u0394 Precio: 2500.0%\",\"lat\":[4.5709,9.0579],\"legendgroup\":\"Intercontinentales\",\"line\":{\"color\":\"#d62728\",\"width\":3.1875},\"lon\":[-74.2973,7.4893],\"mode\":\"lines\",\"opacity\":0.7,\"showlegend\":false,\"visible\":\"legendonly\",\"type\":\"scattergeo\"},{\"hoverinfo\":\"text\",\"hovertext\":\"Nigeria \\u2192 Espa\\u00f1a<br>\\u0394 Precio: 600.0%\",\"lat\":[9.0579,40.4168],\"legendgroup\":\"Intercontinentales\",\"line\":{\"color\":\"#d62728\",\"width\":1.525},\"lon\":[7.4893,-3.7038],\"mode\":\"lines\",\"opacity\":0.7,\"showlegend\":false,\"visible\":\"legendonly\",\"type\":\"scattergeo\"},{\"hoverinfo\":\"text\",\"hovertext\":\"Mexico \\u2192 Australia<br>\\u0394 Precio: 669.9%\",\"lat\":[19.4326,-33.8688],\"legendgroup\":\"Intercontinentales\",\"line\":{\"color\":\"#d62728\",\"width\":1.5861625},\"lon\":[-99.1332,151.2093],\"mode\":\"lines\",\"opacity\":0.7,\"showlegend\":false,\"visible\":\"legendonly\",\"type\":\"scattergeo\"},{\"hoverinfo\":\"text\",\"hovertext\":\"Per\\u00fa \\u2192 Sud\\u00e1frica<br>\\u0394 Precio: 1800.0%\",\"lat\":[-12.0464,-25.7313],\"legendgroup\":\"Intercontinentales\",\"line\":{\"color\":\"#d62728\",\"width\":2.575},\"lon\":[-77.0428,28.1871],\"mode\":\"lines\",\"opacity\":0.7,\"showlegend\":false,\"visible\":\"legendonly\",\"type\":\"scattergeo\"},{\"hoverinfo\":\"text\",\"hovertext\":\"Brasil \\u2192 Angola<br>\\u0394 Precio: 890.0%\",\"lat\":[-15.7801,-8.8159],\"legendgroup\":\"Intercontinentales\",\"line\":{\"color\":\"#d62728\",\"width\":1.77875},\"lon\":[-47.9297,13.2316],\"mode\":\"lines\",\"opacity\":0.7,\"showlegend\":false,\"visible\":\"legendonly\",\"type\":\"scattergeo\"},{\"hoverinfo\":\"text\",\"hovertext\":\"Venezuela \\u2192 Turqu\\u00eda<br>\\u0394 Precio: 1500.0%\",\"lat\":[10.4806,39.9334],\"legendgroup\":\"Intercontinentales\",\"line\":{\"color\":\"#d62728\",\"width\":2.3125},\"lon\":[-66.9036,32.8597],\"mode\":\"lines\",\"opacity\":0.7,\"showlegend\":false,\"visible\":\"legendonly\",\"type\":\"scattergeo\"},{\"hoverinfo\":\"text\",\"hovertext\":\"Paraguay \\u2192 Mozambique<br>\\u0394 Precio: 2100.0%\",\"lat\":[-25.2637,-25.8913],\"legendgroup\":\"Intercontinentales\",\"line\":{\"color\":\"#d62728\",\"width\":2.8375000000000004},\"lon\":[-57.5759,32.5732],\"mode\":\"lines\",\"opacity\":0.7,\"showlegend\":false,\"visible\":\"legendonly\",\"type\":\"scattergeo\"},{\"lat\":[null],\"legendgroup\":\"Intercontinentales\",\"line\":{\"color\":\"#d62728\",\"width\":2},\"lon\":[null],\"mode\":\"lines\",\"name\":\"Intercontinentales\",\"showlegend\":true,\"type\":\"scattergeo\"},{\"hoverinfo\":\"text\",\"hovertext\":\"Panam\\u00e1 \\u2192 Ghana<br>\\u0394 Precio: 1100.0%\",\"lat\":[8.9943,5.6037],\"legendgroup\":\"Ajustes 2024\",\"line\":{\"color\":\"#9467bd\",\"width\":1.9625000000000001},\"lon\":[-79.5167,-0.1866],\"mode\":\"lines\",\"opacity\":0.7,\"showlegend\":false,\"visible\":\"legendonly\",\"type\":\"scattergeo\"},{\"hoverinfo\":\"text\",\"hovertext\":\"Cabo Verde \\u2192 Portugal<br>\\u0394 Precio: 750.0%\",\"lat\":[15.1201,38.7223],\"legendgroup\":\"Ajustes 2024\",\"line\":{\"color\":\"#9467bd\",\"width\":1.65625},\"lon\":[-23.5133,-9.1393],\"mode\":\"lines\",\"opacity\":0.7,\"showlegend\":false,\"visible\":\"legendonly\",\"type\":\"scattergeo\"},{\"hoverinfo\":\"text\",\"hovertext\":\"Polonia \\u2192 Ucrania<br>\\u0394 Precio: 200.0%\",\"lat\":[52.237,50.4501],\"legendgroup\":\"Ajustes 2024\",\"line\":{\"color\":\"#9467bd\",\"width\":1.175},\"lon\":[21.0175,30.5234],\"mode\":\"lines\",\"opacity\":0.7,\"showlegend\":false,\"visible\":\"legendonly\",\"type\":\"scattergeo\"},{\"hoverinfo\":\"text\",\"hovertext\":\"Turqu\\u00eda \\u2192 Alemania<br>\\u0394 Precio: 180.0%\",\"lat\":[39.9334,52.52],\"legendgroup\":\"Ajustes 2024\",\"line\":{\"color\":\"#9467bd\",\"width\":1.1575},\"lon\":[32.8597,13.4049],\"mode\":\"lines\",\"opacity\":0.7,\"showlegend\":false,\"visible\":\"legendonly\",\"type\":\"scattergeo\"},{\"lat\":[null],\"legendgroup\":\"Ajustes 2024\",\"line\":{\"color\":\"#9467bd\",\"width\":2},\"lon\":[null],\"mode\":\"lines\",\"name\":\"Ajustes 2024\",\"showlegend\":true,\"type\":\"scattergeo\"},{\"lat\":[null],\"line\":{\"color\":\"gray\",\"width\":1},\"lon\":[null],\"mode\":\"lines\",\"name\":\"\\u0394 Precio: 0%\",\"showlegend\":true,\"type\":\"scattergeo\"},{\"lat\":[null],\"line\":{\"color\":\"gray\",\"width\":2.75},\"lon\":[null],\"mode\":\"lines\",\"name\":\"\\u0394 Precio: 2000%\",\"showlegend\":true,\"type\":\"scattergeo\"},{\"lat\":[null],\"line\":{\"color\":\"gray\",\"width\":4.5},\"lon\":[null],\"mode\":\"lines\",\"name\":\"\\u0394 Precio: 4000%\",\"showlegend\":true,\"type\":\"scattergeo\"},{\"lat\":[null],\"line\":{\"color\":\"gray\",\"width\":6.25},\"lon\":[null],\"mode\":\"lines\",\"name\":\"\\u0394 Precio: 6000%\",\"showlegend\":true,\"type\":\"scattergeo\"}],                        {\"template\":{\"data\":{\"barpolar\":[{\"marker\":{\"line\":{\"color\":\"white\",\"width\":0.5},\"pattern\":{\"fillmode\":\"overlay\",\"size\":10,\"solidity\":0.2}},\"type\":\"barpolar\"}],\"bar\":[{\"error_x\":{\"color\":\"#2a3f5f\"},\"error_y\":{\"color\":\"#2a3f5f\"},\"marker\":{\"line\":{\"color\":\"white\",\"width\":0.5},\"pattern\":{\"fillmode\":\"overlay\",\"size\":10,\"solidity\":0.2}},\"type\":\"bar\"}],\"carpet\":[{\"aaxis\":{\"endlinecolor\":\"#2a3f5f\",\"gridcolor\":\"#C8D4E3\",\"linecolor\":\"#C8D4E3\",\"minorgridcolor\":\"#C8D4E3\",\"startlinecolor\":\"#2a3f5f\"},\"baxis\":{\"endlinecolor\":\"#2a3f5f\",\"gridcolor\":\"#C8D4E3\",\"linecolor\":\"#C8D4E3\",\"minorgridcolor\":\"#C8D4E3\",\"startlinecolor\":\"#2a3f5f\"},\"type\":\"carpet\"}],\"choropleth\":[{\"colorbar\":{\"outlinewidth\":0,\"ticks\":\"\"},\"type\":\"choropleth\"}],\"contourcarpet\":[{\"colorbar\":{\"outlinewidth\":0,\"ticks\":\"\"},\"type\":\"contourcarpet\"}],\"contour\":[{\"colorbar\":{\"outlinewidth\":0,\"ticks\":\"\"},\"colorscale\":[[0.0,\"#0d0887\"],[0.1111111111111111,\"#46039f\"],[0.2222222222222222,\"#7201a8\"],[0.3333333333333333,\"#9c179e\"],[0.4444444444444444,\"#bd3786\"],[0.5555555555555556,\"#d8576b\"],[0.6666666666666666,\"#ed7953\"],[0.7777777777777778,\"#fb9f3a\"],[0.8888888888888888,\"#fdca26\"],[1.0,\"#f0f921\"]],\"type\":\"contour\"}],\"heatmapgl\":[{\"colorbar\":{\"outlinewidth\":0,\"ticks\":\"\"},\"colorscale\":[[0.0,\"#0d0887\"],[0.1111111111111111,\"#46039f\"],[0.2222222222222222,\"#7201a8\"],[0.3333333333333333,\"#9c179e\"],[0.4444444444444444,\"#bd3786\"],[0.5555555555555556,\"#d8576b\"],[0.6666666666666666,\"#ed7953\"],[0.7777777777777778,\"#fb9f3a\"],[0.8888888888888888,\"#fdca26\"],[1.0,\"#f0f921\"]],\"type\":\"heatmapgl\"}],\"heatmap\":[{\"colorbar\":{\"outlinewidth\":0,\"ticks\":\"\"},\"colorscale\":[[0.0,\"#0d0887\"],[0.1111111111111111,\"#46039f\"],[0.2222222222222222,\"#7201a8\"],[0.3333333333333333,\"#9c179e\"],[0.4444444444444444,\"#bd3786\"],[0.5555555555555556,\"#d8576b\"],[0.6666666666666666,\"#ed7953\"],[0.7777777777777778,\"#fb9f3a\"],[0.8888888888888888,\"#fdca26\"],[1.0,\"#f0f921\"]],\"type\":\"heatmap\"}],\"histogram2dcontour\":[{\"colorbar\":{\"outlinewidth\":0,\"ticks\":\"\"},\"colorscale\":[[0.0,\"#0d0887\"],[0.1111111111111111,\"#46039f\"],[0.2222222222222222,\"#7201a8\"],[0.3333333333333333,\"#9c179e\"],[0.4444444444444444,\"#bd3786\"],[0.5555555555555556,\"#d8576b\"],[0.6666666666666666,\"#ed7953\"],[0.7777777777777778,\"#fb9f3a\"],[0.8888888888888888,\"#fdca26\"],[1.0,\"#f0f921\"]],\"type\":\"histogram2dcontour\"}],\"histogram2d\":[{\"colorbar\":{\"outlinewidth\":0,\"ticks\":\"\"},\"colorscale\":[[0.0,\"#0d0887\"],[0.1111111111111111,\"#46039f\"],[0.2222222222222222,\"#7201a8\"],[0.3333333333333333,\"#9c179e\"],[0.4444444444444444,\"#bd3786\"],[0.5555555555555556,\"#d8576b\"],[0.6666666666666666,\"#ed7953\"],[0.7777777777777778,\"#fb9f3a\"],[0.8888888888888888,\"#fdca26\"],[1.0,\"#f0f921\"]],\"type\":\"histogram2d\"}],\"histogram\":[{\"marker\":{\"pattern\":{\"fillmode\":\"overlay\",\"size\":10,\"solidity\":0.2}},\"type\":\"histogram\"}],\"mesh3d\":[{\"colorbar\":{\"outlinewidth\":0,\"ticks\":\"\"},\"type\":\"mesh3d\"}],\"parcoords\":[{\"line\":{\"colorbar\":{\"outlinewidth\":0,\"ticks\":\"\"}},\"type\":\"parcoords\"}],\"pie\":[{\"automargin\":true,\"type\":\"pie\"}],\"scatter3d\":[{\"line\":{\"colorbar\":{\"outlinewidth\":0,\"ticks\":\"\"}},\"marker\":{\"colorbar\":{\"outlinewidth\":0,\"ticks\":\"\"}},\"type\":\"scatter3d\"}],\"scattercarpet\":[{\"marker\":{\"colorbar\":{\"outlinewidth\":0,\"ticks\":\"\"}},\"type\":\"scattercarpet\"}],\"scattergeo\":[{\"marker\":{\"colorbar\":{\"outlinewidth\":0,\"ticks\":\"\"}},\"type\":\"scattergeo\"}],\"scattergl\":[{\"marker\":{\"colorbar\":{\"outlinewidth\":0,\"ticks\":\"\"}},\"type\":\"scattergl\"}],\"scattermapbox\":[{\"marker\":{\"colorbar\":{\"outlinewidth\":0,\"ticks\":\"\"}},\"type\":\"scattermapbox\"}],\"scatterpolargl\":[{\"marker\":{\"colorbar\":{\"outlinewidth\":0,\"ticks\":\"\"}},\"type\":\"scatterpolargl\"}],\"scatterpolar\":[{\"marker\":{\"colorbar\":{\"outlinewidth\":0,\"ticks\":\"\"}},\"type\":\"scatterpolar\"}],\"scatter\":[{\"fillpattern\":{\"fillmode\":\"overlay\",\"size\":10,\"solidity\":0.2},\"type\":\"scatter\"}],\"scatterternary\":[{\"marker\":{\"colorbar\":{\"outlinewidth\":0,\"ticks\":\"\"}},\"type\":\"scatterternary\"}],\"surface\":[{\"colorbar\":{\"outlinewidth\":0,\"ticks\":\"\"},\"colorscale\":[[0.0,\"#0d0887\"],[0.1111111111111111,\"#46039f\"],[0.2222222222222222,\"#7201a8\"],[0.3333333333333333,\"#9c179e\"],[0.4444444444444444,\"#bd3786\"],[0.5555555555555556,\"#d8576b\"],[0.6666666666666666,\"#ed7953\"],[0.7777777777777778,\"#fb9f3a\"],[0.8888888888888888,\"#fdca26\"],[1.0,\"#f0f921\"]],\"type\":\"surface\"}],\"table\":[{\"cells\":{\"fill\":{\"color\":\"#EBF0F8\"},\"line\":{\"color\":\"white\"}},\"header\":{\"fill\":{\"color\":\"#C8D4E3\"},\"line\":{\"color\":\"white\"}},\"type\":\"table\"}]},\"layout\":{\"annotationdefaults\":{\"arrowcolor\":\"#2a3f5f\",\"arrowhead\":0,\"arrowwidth\":1},\"autotypenumbers\":\"strict\",\"coloraxis\":{\"colorbar\":{\"outlinewidth\":0,\"ticks\":\"\"}},\"colorscale\":{\"diverging\":[[0,\"#8e0152\"],[0.1,\"#c51b7d\"],[0.2,\"#de77ae\"],[0.3,\"#f1b6da\"],[0.4,\"#fde0ef\"],[0.5,\"#f7f7f7\"],[0.6,\"#e6f5d0\"],[0.7,\"#b8e186\"],[0.8,\"#7fbc41\"],[0.9,\"#4d9221\"],[1,\"#276419\"]],\"sequential\":[[0.0,\"#0d0887\"],[0.1111111111111111,\"#46039f\"],[0.2222222222222222,\"#7201a8\"],[0.3333333333333333,\"#9c179e\"],[0.4444444444444444,\"#bd3786\"],[0.5555555555555556,\"#d8576b\"],[0.6666666666666666,\"#ed7953\"],[0.7777777777777778,\"#fb9f3a\"],[0.8888888888888888,\"#fdca26\"],[1.0,\"#f0f921\"]],\"sequentialminus\":[[0.0,\"#0d0887\"],[0.1111111111111111,\"#46039f\"],[0.2222222222222222,\"#7201a8\"],[0.3333333333333333,\"#9c179e\"],[0.4444444444444444,\"#bd3786\"],[0.5555555555555556,\"#d8576b\"],[0.6666666666666666,\"#ed7953\"],[0.7777777777777778,\"#fb9f3a\"],[0.8888888888888888,\"#fdca26\"],[1.0,\"#f0f921\"]]},\"colorway\":[\"#636efa\",\"#EF553B\",\"#00cc96\",\"#ab63fa\",\"#FFA15A\",\"#19d3f3\",\"#FF6692\",\"#B6E880\",\"#FF97FF\",\"#FECB52\"],\"font\":{\"color\":\"#2a3f5f\"},\"geo\":{\"bgcolor\":\"white\",\"lakecolor\":\"white\",\"landcolor\":\"white\",\"showlakes\":true,\"showland\":true,\"subunitcolor\":\"#C8D4E3\"},\"hoverlabel\":{\"align\":\"left\"},\"hovermode\":\"closest\",\"mapbox\":{\"style\":\"light\"},\"paper_bgcolor\":\"white\",\"plot_bgcolor\":\"white\",\"polar\":{\"angularaxis\":{\"gridcolor\":\"#EBF0F8\",\"linecolor\":\"#EBF0F8\",\"ticks\":\"\"},\"bgcolor\":\"white\",\"radialaxis\":{\"gridcolor\":\"#EBF0F8\",\"linecolor\":\"#EBF0F8\",\"ticks\":\"\"}},\"scene\":{\"xaxis\":{\"backgroundcolor\":\"white\",\"gridcolor\":\"#DFE8F3\",\"gridwidth\":2,\"linecolor\":\"#EBF0F8\",\"showbackground\":true,\"ticks\":\"\",\"zerolinecolor\":\"#EBF0F8\"},\"yaxis\":{\"backgroundcolor\":\"white\",\"gridcolor\":\"#DFE8F3\",\"gridwidth\":2,\"linecolor\":\"#EBF0F8\",\"showbackground\":true,\"ticks\":\"\",\"zerolinecolor\":\"#EBF0F8\"},\"zaxis\":{\"backgroundcolor\":\"white\",\"gridcolor\":\"#DFE8F3\",\"gridwidth\":2,\"linecolor\":\"#EBF0F8\",\"showbackground\":true,\"ticks\":\"\",\"zerolinecolor\":\"#EBF0F8\"}},\"shapedefaults\":{\"line\":{\"color\":\"#2a3f5f\"}},\"ternary\":{\"aaxis\":{\"gridcolor\":\"#DFE8F3\",\"linecolor\":\"#A2B1C6\",\"ticks\":\"\"},\"baxis\":{\"gridcolor\":\"#DFE8F3\",\"linecolor\":\"#A2B1C6\",\"ticks\":\"\"},\"bgcolor\":\"white\",\"caxis\":{\"gridcolor\":\"#DFE8F3\",\"linecolor\":\"#A2B1C6\",\"ticks\":\"\"}},\"title\":{\"x\":0.05},\"xaxis\":{\"automargin\":true,\"gridcolor\":\"#EBF0F8\",\"linecolor\":\"#EBF0F8\",\"ticks\":\"\",\"title\":{\"standoff\":15},\"zerolinecolor\":\"#EBF0F8\",\"zerolinewidth\":2},\"yaxis\":{\"automargin\":true,\"gridcolor\":\"#EBF0F8\",\"linecolor\":\"#EBF0F8\",\"ticks\":\"\",\"title\":{\"standoff\":15},\"zerolinecolor\":\"#EBF0F8\",\"zerolinewidth\":2}}},\"title\":{\"font\":{\"size\":22,\"color\":\"#2c3e50\"},\"text\":\"<b>Red de Tr\\u00e1fico Global</b><br><sup>Flujos y Revalorizaci\\u00f3n - Coca\\u00edna</sup>\",\"x\":0.05},\"geo\":{\"projection\":{\"type\":\"natural earth\"},\"showland\":true,\"landcolor\":\"rgb(243, 243, 243)\",\"countrycolor\":\"rgb(200, 200, 200)\",\"coastlinecolor\":\"rgb(150, 150, 150)\",\"showcountries\":true},\"legend\":{\"font\":{\"size\":10},\"title\":{\"text\":\"Leyenda:<br>Color = Categor\\u00eda<br>Grosor = Incremento\"},\"yanchor\":\"top\",\"y\":0.97,\"xanchor\":\"left\",\"x\":0.02,\"bgcolor\":\"rgba(255,255,255,0.9)\",\"bordercolor\":\"#CCCCCC\",\"borderwidth\":1},\"margin\":{\"l\":0,\"r\":0,\"t\":90,\"b\":0},\"height\":750,\"width\":1300},                        {\"responsive\": true}                    ).then(function(){\n",
       "                            \n",
       "var gd = document.getElementById('1d7f4082-f6fb-4e50-b2e8-8f0bde81a74d');\n",
       "var x = new MutationObserver(function (mutations, observer) {{\n",
       "        var display = window.getComputedStyle(gd).display;\n",
       "        if (!display || display === 'none') {{\n",
       "            console.log([gd, 'removed!']);\n",
       "            Plotly.purge(gd);\n",
       "            observer.disconnect();\n",
       "        }}\n",
       "}});\n",
       "\n",
       "// Listen for the removal of the full notebook cells\n",
       "var notebookContainer = gd.closest('#notebook-container');\n",
       "if (notebookContainer) {{\n",
       "    x.observe(notebookContainer, {childList: true});\n",
       "}}\n",
       "\n",
       "// Listen for the clearing of the current output cell\n",
       "var outputEl = gd.closest('.output');\n",
       "if (outputEl) {{\n",
       "    x.observe(outputEl, {childList: true});\n",
       "}}\n",
       "\n",
       "                        })                };                });            </script>        </div>"
      ]
     },
     "metadata": {},
     "output_type": "display_data"
    }
   ],
   "source": [
    "coordenadas_paises = {\n",
    "    'Afganistán': (69.2075, 34.5553),        # Kabul\n",
    "    'Alemania': (13.4049, 52.5200),          # Berlín\n",
    "    'Angola': (13.2316, -8.8159),            # Luanda\n",
    "    'Argentina': (-58.3816, -34.6037),       # Buenos Aires\n",
    "    'Australia': (151.2093, -33.8688),       # Sídney\n",
    "    'Austria': (16.3738, 48.2082),           # Viena\n",
    "    'Bélgica': (4.3517, 50.8503),            # Bruselas\n",
    "    'Bolivia': (-68.1193, -16.4897),         # La Paz\n",
    "    'Brasil': (-47.9297, -15.7801),          # Brasilia\n",
    "    'Cabo Verde': (-23.5133, 15.1201),       # Praia\n",
    "    'Chile': (-70.6693, -33.4489),           # Santiago\n",
    "    'Colombia': (-74.2973, 4.5709),          # Bogotá\n",
    "    'Costa Rica': (-84.0907, 9.7489),        # San José\n",
    "    'Dinamarca': (12.5683, 55.6761),         # Copenhague\n",
    "    'Ecuador': (-78.4678, -0.1807),          # Quito\n",
    "    'España': (-3.7038, 40.4168),            # Madrid\n",
    "    'Estados Unidos': (-95.7129, 37.0902),   # Centro geográfico\n",
    "    'Finlandia': (24.9384, 60.1699),         # Helsinki\n",
    "    'Francia': (2.3522, 48.8566),            # París\n",
    "    'Ghana': (-0.1866, 5.6037),              # Acra\n",
    "    'Guatemala': (-90.5167, 14.6349),        # Ciudad de Guatemala\n",
    "    'Honduras': (-87.2042, 14.0810),         # Tegucigalpa\n",
    "    'Mexico': (-99.1332, 19.4326),           # Ciudad de México\n",
    "    'Moldavia': (28.8614, 47.0105),          # Chisináu\n",
    "    'Mozambique': (32.5732, -25.8913),       # Maputo\n",
    "    'Nigeria': (7.4893, 9.0579),             # Abuya\n",
    "    'Noruega': (10.7522, 59.9139),           # Oslo\n",
    "    'Países Bajos': (4.8952, 52.3676),       # Ámsterdam\n",
    "    'Panamá': (-79.5167, 8.9943),            # Ciudad de Panamá\n",
    "    'Paraguay': (-57.5759, -25.2637),        # Asunción\n",
    "    'Perú': (-77.0428, -12.0464),            # Lima\n",
    "    'Polonia': (21.0175, 52.2370),           # Varsovia\n",
    "    'Portugal': (-9.1393, 38.7223),          # Lisboa\n",
    "    'Reino Unido': (-0.1276, 51.5074),       # Londres\n",
    "    'República Dominicana': (-69.9312, 18.4861), # Santo Domingo\n",
    "    'Sudáfrica': (28.1871, -25.7313),        # Pretoria\n",
    "    'Turquía': (32.8597, 39.9334),           # Ankara\n",
    "    'Ucrania': (30.5234, 50.4501),           # Kiev\n",
    "    'Uruguay': (-56.1645, -34.9011),         # Montevideo\n",
    "    'Venezuela': (-66.9036, 10.4806)         # Caracas\n",
    "}\n",
    "\n",
    "# Rutas de tráfico con sus ponderaciones (porcentaje de incremento)\n",
    "rutas_trafico = [\n",
    "    # Flujo de abastecimiento a Estados Unidos:\n",
    "    ('Colombia', 'Costa Rica', 500.81),     # Primer tramo: Costa Rica como nodo inicial\n",
    "    ('Colombia', 'Mexico', 739.60),           # Flujo directo a través de México\n",
    "    ('Mexico', 'Estados Unidos', 198.97),     # Último tramo hacia EE. UU.\n",
    "\n",
    "    # Flujo de abastecimiento a Europa:\n",
    "    ('Ecuador', 'Alemania', 2272.82),         # Desde Ecuador a Alemania\n",
    "    ('Brasil', 'Alemania', 1774.37),          # Desde Brasil a Alemania\n",
    "    ('Brasil', 'España', 1517.49),            # Desde Brasil a España\n",
    "    ('Argentina', 'Alemania', 800.81),         # Desde Argentina a Alemania\n",
    "    ('Argentina', 'España', 677.35),           # Desde Argentina a España\n",
    "    ('Paraguay', 'Alemania', 555.59),          # Desde Paraguay a Alemania\n",
    "    ('Uruguay', 'Alemania', 519.31),           # Desde Uruguay a Alemania\n",
    "    ('Ecuador', 'España', 1947.63),            # Desde Ecuador a España\n",
    "    ('Ecuador', 'Países Bajos', 1906.66),       # Desde Ecuador a Países Bajos\n",
    "    ('Brasil', 'Países Bajos', 1485.13),        # Desde Brasil a Países Bajos\n",
    "    ('Brasil', 'Bélgica', 1339.10),           # Desde Brasil a Bélgica\n",
    "    ('Ecuador', 'Bélgica', 1721.80),           # Desde Ecuador a Bélgica\n",
    "    ('Ecuador', 'Portugal', 1472.06),          # Desde Ecuador a Portugal\n",
    "    ('Brasil', 'Portugal', 1141.82),          # Desde Brasil a Portugal\n",
    "\n",
    "    # Redistribución interna en Europa:\n",
    "    ('España', 'Finlandia', 121.47),           # De España a Finlandia\n",
    "    ('España', 'Moldavia', 66.47),             # De España a Moldavia\n",
    "    ('Portugal', 'Finlandia', 188.46),         # De Portugal a Finlandia\n",
    "    ('Portugal', 'Moldavia', 116.83),          # De Portugal a Moldavia\n",
    "    ('Alemania', 'Austria', 20.04),            # De Alemania a Austria\n",
    "    ('Alemania', 'Moldavia', 43.66),           # De Alemania a Moldavia\n",
    "\n",
    "    # Rutas Intercontinentales:\n",
    "    ('Colombia', 'Nigeria', 2500.0),          # Desde Colombia a Nigeria\n",
    "    ('Nigeria', 'España', 600.0),             # Desde Nigeria a España\n",
    "    ('Mexico', 'Australia', 669.9),           # Desde México a Australia\n",
    "    ('Perú', 'Sudáfrica', 1800.0),            # Desde Perú a Sudáfrica\n",
    "    ('Brasil', 'Angola', 890.0),              # Desde Brasil a Angola\n",
    "    ('Venezuela', 'Turquía', 1500.0),         # Desde Venezuela a Turquía\n",
    "    ('Paraguay', 'Mozambique', 2100.0),       # Desde Paraguay a Mozambique\n",
    "\n",
    "    # Ajustes críticos (UNODC 2024):\n",
    "    ('Panamá', 'Ghana', 1100.0),              # Nuevo corredor atlántico\n",
    "    ('Cabo Verde', 'Portugal', 750.0),        # Plataforma de reexportación\n",
    "    ('Polonia', 'Ucrania', 200.0),            # Conflictos y mercados grises\n",
    "    ('Turquía', 'Alemania', 180.0)            # Redes balcánicas\n",
    "]\n",
    "\n",
    "# Crear grafo e incorporar nodos y aristas\n",
    "G = nx.DiGraph()\n",
    "for pais, coords in coordenadas_paises.items():\n",
    "    G.add_node(pais, pos=coords)\n",
    "for ruta in rutas_trafico:\n",
    "    G.add_edge(ruta[0], ruta[1], weight=ruta[2])\n",
    "\n",
    "# Parámetros para el grosor de línea\n",
    "MIN_LINE_WIDTH = 1\n",
    "MAX_LINE_WIDTH = 8\n",
    "BASE_OPACITY = 0.7\n",
    "\n",
    "def calcular_grosor(peso):\n",
    "    return MIN_LINE_WIDTH + (peso/8000) * (MAX_LINE_WIDTH - MIN_LINE_WIDTH)\n",
    "\n",
    "# Crear figura de Plotly\n",
    "fig = go.Figure()\n",
    "\n",
    "# Agregar nodos con tooltips\n",
    "node_connections = {pais: [] for pais in coordenadas_paises}\n",
    "for u, v, data in G.edges(data=True):\n",
    "    node_connections[u].append(f\"→ {v} ({data['weight']}%)\")\n",
    "    node_connections[v].append(f\"← {u} ({data['weight']}%)\")\n",
    "\n",
    "for node, coords in coordenadas_paises.items():\n",
    "    connections = \"<br>\".join(node_connections[node])\n",
    "    fig.add_trace(go.Scattergeo(\n",
    "        lon=[coords[0]], lat=[coords[1]], text=node,\n",
    "        mode='markers+text',\n",
    "        marker=dict(size=10, color='#2c3e50', opacity=0.7, line=dict(width=0.5, color='white')),\n",
    "        textfont=dict(color='#2c3e50', size=10, family='Arial'),\n",
    "        textposition='top center',\n",
    "        hoverinfo=\"text\",\n",
    "        hovertext=f\"<b>{node}</b><br><br>Conexiones:<br>{connections}\",\n",
    "        showlegend=False\n",
    "    ))\n",
    "\n",
    "# Edge categories ajustadas (se omiten rutas con Francia, ya que no es nodo clave)\n",
    "edge_categories = {\n",
    "    'América': {\n",
    "        'color': '#1f77b4',\n",
    "        'rutas': [\n",
    "            ('Colombia', 'Costa Rica'),      # 500.81%\n",
    "            ('Colombia', 'Mexico'),           # 739.60%\n",
    "            ('Mexico', 'Estados Unidos')      # 198.97%\n",
    "        ]\n",
    "    },\n",
    "    'América-Europa': {\n",
    "        'color': '#ff7f0e',\n",
    "        'rutas': [\n",
    "            ('Ecuador', 'Alemania'),          # 2272.82%\n",
    "            ('Brasil', 'Alemania'),           # 1774.37%\n",
    "            ('Brasil', 'España'),             # 1517.49%\n",
    "            ('Argentina', 'Alemania'),        # 800.81%\n",
    "            ('Argentina', 'España'),          # 677.35%\n",
    "            ('Paraguay', 'Alemania'),         # 555.59%\n",
    "            ('Uruguay', 'Alemania'),          # 519.31%\n",
    "            ('Ecuador', 'España'),            # 1947.63%\n",
    "            ('Ecuador', 'Países Bajos'),      # 1906.66%\n",
    "            ('Brasil', 'Países Bajos'),       # 1485.13%\n",
    "            ('Brasil', 'Bélgica'),            # 1339.10%\n",
    "            ('Ecuador', 'Bélgica'),           # 1721.80%\n",
    "            ('Ecuador', 'Portugal'),          # 1472.06%\n",
    "            ('Brasil', 'Portugal')            # 1141.82%\n",
    "        ]\n",
    "    },\n",
    "    'Europa': {\n",
    "        'color': '#2ca02c',\n",
    "        'rutas': [\n",
    "            ('España', 'Finlandia'),          # 121.47%\n",
    "            ('España', 'Moldavia'),           # 66.47%\n",
    "            ('Portugal', 'Finlandia'),        # 188.46%\n",
    "            ('Portugal', 'Moldavia'),         # 116.83%\n",
    "            ('Alemania', 'Austria'),          # 20.04%\n",
    "            ('Alemania', 'Moldavia')          # 43.66%\n",
    "        ]\n",
    "    },\n",
    "    'Intercontinentales': {\n",
    "        'color': '#d62728',\n",
    "        'rutas': [\n",
    "            ('Colombia', 'Nigeria'),         # 2500.0%\n",
    "            ('Nigeria', 'España'),            # 600.0%\n",
    "            ('Mexico', 'Australia'),          # 669.9%\n",
    "            ('Perú', 'Sudáfrica'),            # 1800.0%\n",
    "            ('Brasil', 'Angola'),             # 890.0%\n",
    "            ('Venezuela', 'Turquía'),         # 1500.0%\n",
    "            ('Paraguay', 'Mozambique')        # 2100.0%\n",
    "        ]\n",
    "    },\n",
    "    'Ajustes 2024': {\n",
    "        'color': '#9467bd',\n",
    "        'rutas': [\n",
    "            ('Panamá', 'Ghana'),              # 1100.0%\n",
    "            ('Cabo Verde', 'Portugal'),       # 750.0%\n",
    "            ('Polonia', 'Ucrania'),           # 200.0%\n",
    "            ('Turquía', 'Alemania')           # 180.0%\n",
    "        ]\n",
    "    }\n",
    "}\n",
    "\n",
    "# Agregar todas las rutas según las categorías\n",
    "for category, config in edge_categories.items():\n",
    "    for ruta in config['rutas']:\n",
    "        if G.has_edge(*ruta):\n",
    "            u, v = ruta\n",
    "            x0, y0 = G.nodes[u]['pos']\n",
    "            x1, y1 = G.nodes[v]['pos']\n",
    "            peso = G.edges[ruta]['weight']\n",
    "\n",
    "            fig.add_trace(go.Scattergeo(\n",
    "                lon=[x0, x1],\n",
    "                lat=[y0, y1],\n",
    "                mode='lines',\n",
    "                line=dict(\n",
    "                    width=calcular_grosor(peso),\n",
    "                    color=config['color']\n",
    "                ),\n",
    "                opacity=BASE_OPACITY,\n",
    "                hoverinfo=\"text\",\n",
    "                hovertext=f\"{u} → {v}<br>Δ Precio: {peso}%\",\n",
    "                legendgroup=category,\n",
    "                showlegend=False,\n",
    "                visible='legendonly'\n",
    "            ))\n",
    "\n",
    "    # Agregar traza para la leyenda interactiva de cada categoría\n",
    "    fig.add_trace(go.Scattergeo(\n",
    "        lon=[None],\n",
    "        lat=[None],\n",
    "        mode='lines',\n",
    "        line=dict(width=2, color=config['color']),\n",
    "        name=category,\n",
    "        legendgroup=category,\n",
    "        showlegend=True\n",
    "    ))\n",
    "\n",
    "# Leyenda para el grosor (ejemplo)\n",
    "fig.add_trace(go.Scattergeo(\n",
    "    lon=[None],\n",
    "    lat=[None],\n",
    "    mode='lines',\n",
    "    line=dict(width=1, color='gray'),\n",
    "    name='Δ Precio: 0%',\n",
    "    showlegend=True\n",
    "))\n",
    "for peso in [2000, 4000, 6000]:\n",
    "    fig.add_trace(go.Scattergeo(\n",
    "        lon=[None],\n",
    "        lat=[None],\n",
    "        mode='lines',\n",
    "        line=dict(width=calcular_grosor(peso), color='gray'),\n",
    "        name=f'Δ Precio: {peso}%',\n",
    "        showlegend=True\n",
    "    ))\n",
    "\n",
    "# Configuración final del layout\n",
    "fig.update_layout(\n",
    "    title=dict(\n",
    "        text=\"<b>Red de Tráfico Global</b><br><sup>Flujos y Revalorización - Cocaína</sup>\",\n",
    "        x=0.05,\n",
    "        font=dict(size=22, color='#2c3e50')\n",
    "    ),\n",
    "    geo=dict(\n",
    "        projection_type='natural earth',\n",
    "        showland=True,\n",
    "        landcolor='rgb(243, 243, 243)',\n",
    "        countrycolor='rgb(200, 200, 200)',\n",
    "        coastlinecolor='rgb(150, 150, 150)',\n",
    "        showcountries=True\n",
    "    ),\n",
    "    legend=dict(\n",
    "        title='Leyenda:<br>Color = Categoría<br>Grosor = Incremento',\n",
    "        yanchor=\"top\",\n",
    "        y=0.97,\n",
    "        xanchor=\"left\",\n",
    "        x=0.02,\n",
    "        bgcolor='rgba(255,255,255,0.9)',\n",
    "        bordercolor='#CCCCCC',\n",
    "        borderwidth=1,\n",
    "        font=dict(size=10)\n",
    "    ),\n",
    "    margin=dict(l=0, r=0, t=90, b=0),\n",
    "    height=750,\n",
    "    width=1300,\n",
    "    template='plotly_white'\n",
    ")\n",
    "\n",
    "fig.show()"
   ]
  },
  {
   "cell_type": "code",
   "execution_count": 7,
   "id": "52a4ef15-d729-4f86-a9e7-f94948c78c16",
   "metadata": {},
   "outputs": [],
   "source": [
    "fig.write_html(\"red_trafico.html\")"
   ]
  }
 ],
 "metadata": {
  "kernelspec": {
   "display_name": "Python 3 (ipykernel)",
   "language": "python",
   "name": "python3"
  },
  "language_info": {
   "codemirror_mode": {
    "name": "ipython",
    "version": 3
   },
   "file_extension": ".py",
   "mimetype": "text/x-python",
   "name": "python",
   "nbconvert_exporter": "python",
   "pygments_lexer": "ipython3",
   "version": "3.10.6"
  }
 },
 "nbformat": 4,
 "nbformat_minor": 5
}
